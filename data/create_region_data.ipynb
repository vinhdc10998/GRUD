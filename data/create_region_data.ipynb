{
 "metadata": {
  "language_info": {
   "codemirror_mode": {
    "name": "ipython",
    "version": 3
   },
   "file_extension": ".py",
   "mimetype": "text/x-python",
   "name": "python",
   "nbconvert_exporter": "python",
   "pygments_lexer": "ipython3",
   "version": "3.6.13"
  },
  "orig_nbformat": 2,
  "kernelspec": {
   "name": "python3",
   "display_name": "Python 3",
   "language": "python"
  }
 },
 "nbformat": 4,
 "nbformat_minor": 2,
 "cells": [
  {
   "cell_type": "code",
   "execution_count": 1,
   "metadata": {},
   "outputs": [],
   "source": [
    "import utils\n",
    "import allel\n",
    "import zarr\n",
    "import os\n",
    "import numpy as np\n",
    "import gzip\n",
    "import shutil\n"
   ]
  },
  {
   "cell_type": "code",
   "execution_count": 3,
   "metadata": {},
   "outputs": [],
   "source": [
    "allel.vcf_to_zarr('../data/org_data/ALL.chr22.phase3_shapeit2_mvncall_integrated_v5b.20130502.genotypes.vcf.gz', '../data/org_data/ALL.chr22.phase3_shapeit2_mvncall_integrated_v5b.20130502.genotypes.zarr', fields='*', overwrite=True)\n"
   ]
  },
  {
   "cell_type": "code",
   "execution_count": 6,
   "metadata": {},
   "outputs": [],
   "source": [
    "FILE_NAME_zarr = '../data/org_data/ALL.chr22.phase3_shapeit2_mvncall_integrated_v5b.20130502.genotypes.zarr'\n",
    "vcf_1KGP = zarr.open_group(FILE_NAME_zarr,mode='r')"
   ]
  },
  {
   "cell_type": "code",
   "execution_count": 10,
   "metadata": {},
   "outputs": [],
   "source": [
    "with open(\"samples.txt\",\"w+\") as f:\n",
    "    for sample in vcf_1KGP.samples:\n",
    "        f.write(f\"{sample}\\n\")"
   ]
  },
  {
   "cell_type": "code",
   "execution_count": 7,
   "metadata": {},
   "outputs": [
    {
     "output_type": "execute_result",
     "data": {
      "text/plain": [
       "<VariantChunkedTable shape=(1103547,) dtype=[('AA', 'O'), ('AC', '<i4', (3,)), ('AF', '<f4', (3,)), ('AFR_AF', '<f4', (3,)), ('ALT', 'O', (3,)), ('AMR_AF', '<f4', (3,)), ('AN', '<i4'), ('CHROM', 'O'), ('CIEND', '<i4', (2,)), ('CIPOS', '<i4', (2,)), ('CS', 'O'), ('DP', '<i4'), ('EAS_AF', '<f4', (3,)), ('END', '<i4'), ('EUR_AF', '<f4', (3,)), ('EX_TARGET', '?'), ('FILTER_PASS', '?'), ('ID', 'O'), ('IMPRECISE', '?'), ('MC', 'O'), ('MEINFO', 'O', (4,)), ('MEND', '<i4'), ('MLEN', '<i4'), ('MSTART', '<i4'), ('MULTI_ALLELIC', '?'), ('NS', '<i4'), ('POS', '<i4'), ('QUAL', '<f4'), ('REF', 'O'), ('SAS_AF', '<f4', (3,)), ('SVLEN', '<i4'), ('SVTYPE', 'O'), ('TSD', 'O'), ('VT', 'O'), ('altlen', '<i4', (3,)), ('is_snp', '?'), ('numalt', '<i4')]\n",
       "   nbytes=304.2M cbytes=43.9M cratio=6.9\n",
       "   values=zarr.hierarchy.Group>"
      ],
      "text/html": "<div class=\"allel allel-DisplayAsTable\"><span>&lt;VariantChunkedTable shape=(1103547,) dtype=[('AA', 'O'), ('AC', '&lt;i4', (3,)), ('AF', '&lt;f4', (3,)), ('AFR_AF', '&lt;f4', (3,)), ('ALT', 'O', (3,)), ('AMR_AF', '&lt;f4', (3,)), ('AN', '&lt;i4'), ('CHROM', 'O'), ('CIEND', '&lt;i4', (2,)), ('CIPOS', '&lt;i4', (2,)), ('CS', 'O'), ('DP', '&lt;i4'), ('EAS_AF', '&lt;f4', (3,)), ('END', '&lt;i4'), ('EUR_AF', '&lt;f4', (3,)), ('EX_TARGET', '?'), ('FILTER_PASS', '?'), ('ID', 'O'), ('IMPRECISE', '?'), ('MC', 'O'), ('MEINFO', 'O', (4,)), ('MEND', '&lt;i4'), ('MLEN', '&lt;i4'), ('MSTART', '&lt;i4'), ('MULTI_ALLELIC', '?'), ('NS', '&lt;i4'), ('POS', '&lt;i4'), ('QUAL', '&lt;f4'), ('REF', 'O'), ('SAS_AF', '&lt;f4', (3,)), ('SVLEN', '&lt;i4'), ('SVTYPE', 'O'), ('TSD', 'O'), ('VT', 'O'), ('altlen', '&lt;i4', (3,)), ('is_snp', '?'), ('numalt', '&lt;i4')]\n   nbytes=304.2M cbytes=43.9M cratio=6.9\n   values=zarr.hierarchy.Group&gt;</span><table><thead><tr><th></th><th style=\"text-align: center\">AA</th><th style=\"text-align: center\">AC</th><th style=\"text-align: center\">AF</th><th style=\"text-align: center\">AFR_AF</th><th style=\"text-align: center\">ALT</th><th style=\"text-align: center\">AMR_AF</th><th style=\"text-align: center\">AN</th><th style=\"text-align: center\">CHROM</th><th style=\"text-align: center\">CIEND</th><th style=\"text-align: center\">CIPOS</th><th style=\"text-align: center\">CS</th><th style=\"text-align: center\">DP</th><th style=\"text-align: center\">EAS_AF</th><th style=\"text-align: center\">END</th><th style=\"text-align: center\">EUR_AF</th><th style=\"text-align: center\">EX_TARGET</th><th style=\"text-align: center\">FILTER_PASS</th><th style=\"text-align: center\">ID</th><th style=\"text-align: center\">IMPRECISE</th><th style=\"text-align: center\">MC</th><th style=\"text-align: center\">MEINFO</th><th style=\"text-align: center\">MEND</th><th style=\"text-align: center\">MLEN</th><th style=\"text-align: center\">MSTART</th><th style=\"text-align: center\">MULTI_ALLELIC</th><th style=\"text-align: center\">NS</th><th style=\"text-align: center\">POS</th><th style=\"text-align: center\">QUAL</th><th style=\"text-align: center\">REF</th><th style=\"text-align: center\">SAS_AF</th><th style=\"text-align: center\">SVLEN</th><th style=\"text-align: center\">SVTYPE</th><th style=\"text-align: center\">TSD</th><th style=\"text-align: center\">VT</th><th style=\"text-align: center\">altlen</th><th style=\"text-align: center\">is_snp</th><th style=\"text-align: center\">numalt</th></tr></thead><tbody><tr><th style=\"text-align: center; background-color: white; border-right: 1px solid black; \">0</th><td style=\"text-align: center\">.|||</td><td style=\"text-align: center\">[ 1 -1 -1]</td><td style=\"text-align: center\">[0.00019968        nan        nan]</td><td style=\"text-align: center\">[ 0. nan nan]</td><td style=\"text-align: center\">['G' '' '']</td><td style=\"text-align: center\">[ 0. nan nan]</td><td style=\"text-align: center\">5008</td><td style=\"text-align: center\">22</td><td style=\"text-align: center\">[-1 -1]</td><td style=\"text-align: center\">[-1 -1]</td><td style=\"text-align: center\"></td><td style=\"text-align: center\">8012</td><td style=\"text-align: center\">[ 0. nan nan]</td><td style=\"text-align: center\">-1</td><td style=\"text-align: center\">[ 0. nan nan]</td><td style=\"text-align: center\">False</td><td style=\"text-align: center\">True</td><td style=\"text-align: center\">.</td><td style=\"text-align: center\">False</td><td style=\"text-align: center\"></td><td style=\"text-align: center\">['' '' '' '']</td><td style=\"text-align: center\">-1</td><td style=\"text-align: center\">-1</td><td style=\"text-align: center\">-1</td><td style=\"text-align: center\">False</td><td style=\"text-align: center\">2504</td><td style=\"text-align: center\">16050075</td><td style=\"text-align: center\">100.0</td><td style=\"text-align: center\">A</td><td style=\"text-align: center\">[0.001   nan   nan]</td><td style=\"text-align: center\">-1</td><td style=\"text-align: center\"></td><td style=\"text-align: center\"></td><td style=\"text-align: center\">SNP</td><td style=\"text-align: center\">[0 0 0]</td><td style=\"text-align: center\">True</td><td style=\"text-align: center\">1</td></tr><tr><th style=\"text-align: center; background-color: white; border-right: 1px solid black; \">1</th><td style=\"text-align: center\">.|||</td><td style=\"text-align: center\">[32 -1 -1]</td><td style=\"text-align: center\">[0.00638978        nan        nan]</td><td style=\"text-align: center\">[0.0234    nan    nan]</td><td style=\"text-align: center\">['A' '' '']</td><td style=\"text-align: center\">[0.0014    nan    nan]</td><td style=\"text-align: center\">5008</td><td style=\"text-align: center\">22</td><td style=\"text-align: center\">[-1 -1]</td><td style=\"text-align: center\">[-1 -1]</td><td style=\"text-align: center\"></td><td style=\"text-align: center\">11468</td><td style=\"text-align: center\">[ 0. nan nan]</td><td style=\"text-align: center\">-1</td><td style=\"text-align: center\">[ 0. nan nan]</td><td style=\"text-align: center\">False</td><td style=\"text-align: center\">True</td><td style=\"text-align: center\">.</td><td style=\"text-align: center\">False</td><td style=\"text-align: center\"></td><td style=\"text-align: center\">['' '' '' '']</td><td style=\"text-align: center\">-1</td><td style=\"text-align: center\">-1</td><td style=\"text-align: center\">-1</td><td style=\"text-align: center\">False</td><td style=\"text-align: center\">2504</td><td style=\"text-align: center\">16050115</td><td style=\"text-align: center\">100.0</td><td style=\"text-align: center\">G</td><td style=\"text-align: center\">[ 0. nan nan]</td><td style=\"text-align: center\">-1</td><td style=\"text-align: center\"></td><td style=\"text-align: center\"></td><td style=\"text-align: center\">SNP</td><td style=\"text-align: center\">[0 0 0]</td><td style=\"text-align: center\">True</td><td style=\"text-align: center\">1</td></tr><tr><th style=\"text-align: center; background-color: white; border-right: 1px solid black; \">2</th><td style=\"text-align: center\">.|||</td><td style=\"text-align: center\">[38 -1 -1]</td><td style=\"text-align: center\">[0.00758786        nan        nan]</td><td style=\"text-align: center\">[0.0272    nan    nan]</td><td style=\"text-align: center\">['T' '' '']</td><td style=\"text-align: center\">[0.0014    nan    nan]</td><td style=\"text-align: center\">5008</td><td style=\"text-align: center\">22</td><td style=\"text-align: center\">[-1 -1]</td><td style=\"text-align: center\">[-1 -1]</td><td style=\"text-align: center\"></td><td style=\"text-align: center\">15092</td><td style=\"text-align: center\">[ 0. nan nan]</td><td style=\"text-align: center\">-1</td><td style=\"text-align: center\">[0.001   nan   nan]</td><td style=\"text-align: center\">False</td><td style=\"text-align: center\">True</td><td style=\"text-align: center\">.</td><td style=\"text-align: center\">False</td><td style=\"text-align: center\"></td><td style=\"text-align: center\">['' '' '' '']</td><td style=\"text-align: center\">-1</td><td style=\"text-align: center\">-1</td><td style=\"text-align: center\">-1</td><td style=\"text-align: center\">False</td><td style=\"text-align: center\">2504</td><td style=\"text-align: center\">16050213</td><td style=\"text-align: center\">100.0</td><td style=\"text-align: center\">C</td><td style=\"text-align: center\">[ 0. nan nan]</td><td style=\"text-align: center\">-1</td><td style=\"text-align: center\"></td><td style=\"text-align: center\"></td><td style=\"text-align: center\">SNP</td><td style=\"text-align: center\">[0 0 0]</td><td style=\"text-align: center\">True</td><td style=\"text-align: center\">1</td></tr><tr><th style=\"text-align: center; background-color: white; border-right: 1px solid black; \">...</th><td style=\"text-align: center\" colspan=\"38\">...</td></tr><tr><th style=\"text-align: center; background-color: white; border-right: 1px solid black; \">1103544</th><td style=\"text-align: center\">.|||</td><td style=\"text-align: center\">[39 -1 -1]</td><td style=\"text-align: center\">[0.00778754        nan        nan]</td><td style=\"text-align: center\">[ 0. nan nan]</td><td style=\"text-align: center\">['G' '' '']</td><td style=\"text-align: center\">[ 0. nan nan]</td><td style=\"text-align: center\">5008</td><td style=\"text-align: center\">22</td><td style=\"text-align: center\">[-1 -1]</td><td style=\"text-align: center\">[-1 -1]</td><td style=\"text-align: center\"></td><td style=\"text-align: center\">12532</td><td style=\"text-align: center\">[0.0377    nan    nan]</td><td style=\"text-align: center\">-1</td><td style=\"text-align: center\">[ 0. nan nan]</td><td style=\"text-align: center\">False</td><td style=\"text-align: center\">True</td><td style=\"text-align: center\">.</td><td style=\"text-align: center\">False</td><td style=\"text-align: center\"></td><td style=\"text-align: center\">['' '' '' '']</td><td style=\"text-align: center\">-1</td><td style=\"text-align: center\">-1</td><td style=\"text-align: center\">-1</td><td style=\"text-align: center\">False</td><td style=\"text-align: center\">2504</td><td style=\"text-align: center\">51244163</td><td style=\"text-align: center\">100.0</td><td style=\"text-align: center\">A</td><td style=\"text-align: center\">[0.001   nan   nan]</td><td style=\"text-align: center\">-1</td><td style=\"text-align: center\"></td><td style=\"text-align: center\"></td><td style=\"text-align: center\">SNP</td><td style=\"text-align: center\">[0 0 0]</td><td style=\"text-align: center\">True</td><td style=\"text-align: center\">1</td></tr><tr><th style=\"text-align: center; background-color: white; border-right: 1px solid black; \">1103545</th><td style=\"text-align: center\">.|||</td><td style=\"text-align: center\">[ 1 -1 -1]</td><td style=\"text-align: center\">[0.00019968        nan        nan]</td><td style=\"text-align: center\">[ 0. nan nan]</td><td style=\"text-align: center\">['T' '' '']</td><td style=\"text-align: center\">[ 0. nan nan]</td><td style=\"text-align: center\">5008</td><td style=\"text-align: center\">22</td><td style=\"text-align: center\">[-1 -1]</td><td style=\"text-align: center\">[-1 -1]</td><td style=\"text-align: center\"></td><td style=\"text-align: center\">10958</td><td style=\"text-align: center\">[ 0. nan nan]</td><td style=\"text-align: center\">-1</td><td style=\"text-align: center\">[ 0. nan nan]</td><td style=\"text-align: center\">False</td><td style=\"text-align: center\">True</td><td style=\"text-align: center\">.</td><td style=\"text-align: center\">False</td><td style=\"text-align: center\"></td><td style=\"text-align: center\">['' '' '' '']</td><td style=\"text-align: center\">-1</td><td style=\"text-align: center\">-1</td><td style=\"text-align: center\">-1</td><td style=\"text-align: center\">False</td><td style=\"text-align: center\">2504</td><td style=\"text-align: center\">51244205</td><td style=\"text-align: center\">100.0</td><td style=\"text-align: center\">C</td><td style=\"text-align: center\">[0.001   nan   nan]</td><td style=\"text-align: center\">-1</td><td style=\"text-align: center\"></td><td style=\"text-align: center\"></td><td style=\"text-align: center\">SNP</td><td style=\"text-align: center\">[0 0 0]</td><td style=\"text-align: center\">True</td><td style=\"text-align: center\">1</td></tr><tr><th style=\"text-align: center; background-color: white; border-right: 1px solid black; \">1103546</th><td style=\"text-align: center\">.|||</td><td style=\"text-align: center\">[19 -1 -1]</td><td style=\"text-align: center\">[0.00379393        nan        nan]</td><td style=\"text-align: center\">[ 0. nan nan]</td><td style=\"text-align: center\">['T' '' '']</td><td style=\"text-align: center\">[0.0043    nan    nan]</td><td style=\"text-align: center\">5008</td><td style=\"text-align: center\">22</td><td style=\"text-align: center\">[-1 -1]</td><td style=\"text-align: center\">[-1 -1]</td><td style=\"text-align: center\"></td><td style=\"text-align: center\">13345</td><td style=\"text-align: center\">[ 0. nan nan]</td><td style=\"text-align: center\">-1</td><td style=\"text-align: center\">[0.0099    nan    nan]</td><td style=\"text-align: center\">False</td><td style=\"text-align: center\">True</td><td style=\"text-align: center\">.</td><td style=\"text-align: center\">False</td><td style=\"text-align: center\"></td><td style=\"text-align: center\">['' '' '' '']</td><td style=\"text-align: center\">-1</td><td style=\"text-align: center\">-1</td><td style=\"text-align: center\">-1</td><td style=\"text-align: center\">False</td><td style=\"text-align: center\">2504</td><td style=\"text-align: center\">51244237</td><td style=\"text-align: center\">100.0</td><td style=\"text-align: center\">C</td><td style=\"text-align: center\">[0.0061    nan    nan]</td><td style=\"text-align: center\">-1</td><td style=\"text-align: center\"></td><td style=\"text-align: center\"></td><td style=\"text-align: center\">SNP</td><td style=\"text-align: center\">[0 0 0]</td><td style=\"text-align: center\">True</td><td style=\"text-align: center\">1</td></tr></tbody></table></div>"
     },
     "metadata": {},
     "execution_count": 7
    }
   ],
   "source": [
    "variants = allel.VariantChunkedTable(vcf_1KGP.variants)\n",
    "variants"
   ]
  },
  {
   "cell_type": "code",
   "execution_count": 12,
   "metadata": {},
   "outputs": [],
   "source": [
    "def load_lines(filename, header=False):\n",
    "    header_line = None\n",
    "    lines = []\n",
    "    with utils.reading(filename) as fp:\n",
    "        line_count = 0\n",
    "        if header:\n",
    "            header_line = fp.readline().rstrip()\n",
    "        for line in fp:\n",
    "            lines.append(line.rstrip())\n",
    "    return header_line, lines\n"
   ]
  },
  {
   "cell_type": "code",
   "execution_count": 13,
   "metadata": {},
   "outputs": [],
   "source": [
    "pannel_legend_file = '../pre_data/hap/chr1_test_true.Omni2.5.legend.gz'\n",
    "legend_header, legend_lines = load_lines(pannel_legend_file, True)\n",
    "header_items = legend_header.split()\n",
    "position_col = utils.get_item_col(header_items, 'position', pannel_legend_file)\n",
    "positions = [int(line.split()[position_col]) for line in legend_lines]\n",
    "max_index = len(positions)"
   ]
  },
  {
   "cell_type": "code",
   "execution_count": 14,
   "metadata": {
    "tags": []
   },
   "outputs": [],
   "source": [
    "unobserved = [] \n",
    "observed = []\n",
    "dictItems = []\n",
    "af = iter(variants.AF.values)\n",
    "id = iter(variants.ID.values)\n",
    "ref_variants = []\n",
    "with utils.reading(pannel_legend_file) as fp:\n",
    "    header_items = fp.readline().rstrip().split()\n",
    "    position_col = utils.get_item_col(header_items, 'position', pannel_legend_file)\n",
    "    marker_flag_col = utils.get_item_col(header_items, 'array_marker_flag', pannel_legend_file)\n",
    "    for line in fp:\n",
    "        items = line.rstrip().split()\n",
    "        id_tmp = next(id)\n",
    "        af_tmp = next(af)[0]\n",
    "        ref_variants.append({'id':id_tmp, 'position': items[1], 'a0': items[2], 'a1':items[3],'a1_freq':af_tmp, 'array_marker_flag':items[4]})"
   ]
  },
  {
   "cell_type": "code",
   "execution_count": 15,
   "metadata": {},
   "outputs": [
    {
     "output_type": "stream",
     "name": "stdout",
     "text": [
      "305195\n300821\n4374\n"
     ]
    }
   ],
   "source": [
    "print(len(ref_variants))\n",
    "print(len(unobserved))\n",
    "print(len(observed))"
   ]
  },
  {
   "cell_type": "code",
   "execution_count": 22,
   "metadata": {},
   "outputs": [],
   "source": [
    "def get_index_variant_at_position(position, variants_inp):\n",
    "    for index, x in enumerate(variants_inp):\n",
    "        if int(x['position']) == int(position):\n",
    "            return index, x\n",
    "    return None"
   ]
  },
  {
   "cell_type": "code",
   "execution_count": 42,
   "metadata": {
    "tags": []
   },
   "outputs": [
    {
     "output_type": "stream",
     "name": "stdout",
     "text": [
      "0 16385\n",
      "16385 28215\n",
      "28215 34314\n",
      "34314 48153\n",
      "48153 53424\n",
      "53424 64894\n",
      "64894 68105\n",
      "68105 80020\n",
      "80020 86604\n",
      "86604 98110\n"
     ]
    }
   ],
   "source": [
    "n_split = 2000\n",
    "start_index, end_index = 0, 0\n",
    "samples = []\n",
    "observed_variants_dict = []\n",
    "for i in range(1,11):\n",
    "    with gzip.open(f'/mnt/c/Users/vinhdt17/VBDI/Bioinformatics/rnnimp_vn/results/chr1_{i}.legend.gz','r') as legendFile:\n",
    "        observed_variants = str(legendFile.read()).split(\"\\\\n\")[1:-1]\n",
    "        size_obvars = len(observed_variants)\n",
    "        observed_variants_dict.append({\n",
    "            'id':id_tmp, \n",
    "            'position': items[1],\n",
    "            'a0': items[2],\n",
    "            'a1':items[3],\n",
    "            'a1_freq':af_tmp,\n",
    "            'array_marker_flag':items[4]\n",
    "        }) \n",
    "\n",
    "    position_end_observed = observed_variants[size_obvars-20].split(' ')[1]\n",
    "    end_index, _ = get_index_variant_at_position(position_end_observed, ref_variants[start_index:])\n",
    "    print(start_index, end_index)\n",
    "    ob_variants = []\n",
    "    for obvars in observed_variants[size_obvars-20:]:\n",
    "        _ , variant_tmp = get_index_variant_at_position(obvars.split(' ')[1], ref_variants[start_index:])\n",
    "        ob_variants.append(variant_tmp)\n",
    "    samples.append(ref_variants[start_index: end_index] + ob_variants)\n",
    "    start_index = end_index"
   ]
  },
  {
   "cell_type": "code",
   "execution_count": 41,
   "metadata": {},
   "outputs": [
    {
     "output_type": "stream",
     "name": "stdout",
     "text": [
      "200\n85\n63\n164\n68\n157\n46\n173\n122\n194\n"
     ]
    }
   ],
   "source": [
    "for x in samples:\n",
    "    def count_observerd_variant(variants_inp):\n",
    "        count = 0\n",
    "        for x in variants_inp:\n",
    "            if int(x['array_marker_flag']):\n",
    "                count += 1\n",
    "        print(count)\n",
    "    count_observerd_variant(x)"
   ]
  },
  {
   "cell_type": "code",
   "execution_count": 259,
   "metadata": {
    "tags": []
   },
   "outputs": [],
   "source": [
    "samples = [sorted(x, key=lambda k: k['position']) for x in samples]"
   ]
  },
  {
   "cell_type": "code",
   "execution_count": 260,
   "metadata": {},
   "outputs": [],
   "source": [
    "i = 1\n",
    "for tmp in samples:\n",
    "    fileRegion = open(f'/mnt/c/Users/vinhdt17/VBDI/Bioinformatics/rnnimp_vn/region/chr1_{i}.legend','w+')\n",
    "    fileRegion.write(f\"id position a0 a1 a1_freq array_marker_flag\\n\")\n",
    "    for sample in tmp:\n",
    "        if sample['a1_freq'] == 0.0:\n",
    "            sample['a1_freq'] = 0.00001\n",
    "        fileRegion.write(f\"{sample['id']} {sample['position']} {sample['a0']} {sample['a1']} {sample['a1_freq']} {sample['array_marker_flag']}\\n\")\n",
    "    fileRegion.close()\n",
    "    i += 1"
   ]
  },
  {
   "cell_type": "code",
   "execution_count": 261,
   "metadata": {
    "tags": []
   },
   "outputs": [
    {
     "output_type": "stream",
     "name": "stdout",
     "text": [
      "chr1_1.legend\n",
      "1\n",
      "chr1_10.legend\n",
      "10\n",
      "chr1_2.legend\n",
      "2\n",
      "chr1_3.legend\n",
      "3\n",
      "chr1_4.legend\n",
      "4\n",
      "chr1_5.legend\n",
      "5\n",
      "chr1_6.legend\n",
      "6\n",
      "chr1_7.legend\n",
      "7\n",
      "chr1_8.legend\n",
      "8\n",
      "chr1_9.legend\n",
      "9\n"
     ]
    }
   ],
   "source": [
    "for chr in os.listdir('../region'):\n",
    "    if 'chr' in chr:\n",
    "        print(chr)\n",
    "        index = chr[5:].split(\".\")[0]\n",
    "        print(index)\n",
    "        with open(f'/mnt/c/Users/vinhdt17/VBDI/Bioinformatics/rnnimp_vn/region/{chr}', 'rb') as f_in:\n",
    "            with gzip.open(f'/mnt/c/Users/vinhdt17/VBDI/Bioinformatics/rnnimp_vn/example_data/model_data/region_{index}.legend.gz', 'wb+') as f_out:\n",
    "                shutil.copyfileobj(f_in, f_out)\n"
   ]
  },
  {
   "cell_type": "code",
   "execution_count": null,
   "metadata": {},
   "outputs": [],
   "source": []
  },
  {
   "cell_type": "code",
   "execution_count": null,
   "metadata": {},
   "outputs": [],
   "source": []
  }
 ]
}