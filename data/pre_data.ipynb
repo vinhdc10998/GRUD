{
 "metadata": {
  "language_info": {
   "codemirror_mode": {
    "name": "ipython",
    "version": 3
   },
   "file_extension": ".py",
   "mimetype": "text/x-python",
   "name": "python",
   "nbconvert_exporter": "python",
   "pygments_lexer": "ipython3",
   "version": "3.6.13"
  },
  "orig_nbformat": 2,
  "kernelspec": {
   "name": "python3",
   "display_name": "Python 3",
   "language": "python"
  }
 },
 "nbformat": 4,
 "nbformat_minor": 2,
 "cells": [
  {
   "cell_type": "code",
   "execution_count": 2,
   "metadata": {},
   "outputs": [],
   "source": [
    "import os\n",
    "import utils\n",
    "import numpy as np"
   ]
  },
  {
   "cell_type": "code",
   "execution_count": 3,
   "metadata": {},
   "outputs": [],
   "source": [
    "hap_true_dir = 'org_data/chr22_true.hap.gz'\n",
    "legend_true_dir = 'org_data/chr22_true.legend.gz'\n",
    "region_dir = 'org_data/region_1.legend.gz'"
   ]
  },
  {
   "cell_type": "code",
   "execution_count": 4,
   "metadata": {},
   "outputs": [],
   "source": [
    "def load_lines(filename, header=False):\n",
    "    header_line = None\n",
    "    lines = []\n",
    "    with utils.reading(filename) as fp:\n",
    "        line_count = 0\n",
    "        if header:\n",
    "            header_line = fp.readline().rstrip()\n",
    "        for line in fp:\n",
    "            lines.append(line.rstrip())\n",
    "    return header_line, np.array(lines)\n"
   ]
  },
  {
   "cell_type": "code",
   "execution_count": 5,
   "metadata": {},
   "outputs": [
    {
     "output_type": "stream",
     "name": "stdout",
     "text": [
      "1\n"
     ]
    }
   ],
   "source": [
    "_, hap_lines = load_lines(hap_true_dir)\n",
    "legend_header, legend_lines = load_lines(legend_true_dir, True)\n",
    "region_header, region_lines = load_lines(region_dir, True)\n",
    "\n",
    "legend_header, region_header = legend_header.split(), region_header.split()\n",
    "\n",
    "legend_position_col = utils.get_item_col(legend_header, 'position', legend_true_dir)\n",
    "print(legend_position_col)\n",
    "region_position_col = utils.get_item_col(region_header, 'position', region_dir)\n",
    "region_flag_col = utils.get_item_col(region_header, 'array_marker_flag', region_dir)\n"
   ]
  },
  {
   "cell_type": "code",
   "execution_count": 6,
   "metadata": {
    "tags": []
   },
   "outputs": [],
   "source": [
    "hap_lines_split = np.array([(line.split()) for line in hap_lines])\n",
    "# hap_lines_split.shape\n",
    "# len(hap_lines_split)"
   ]
  },
  {
   "cell_type": "code",
   "execution_count": 7,
   "metadata": {},
   "outputs": [
    {
     "output_type": "execute_result",
     "data": {
      "text/plain": [
       "(1109368,)"
      ]
     },
     "metadata": {},
     "execution_count": 7
    }
   ],
   "source": [
    "legend_positions_list = np.array([int(line.split()[legend_position_col]) for line in legend_lines])\n",
    "legend_positions_list.shape\n"
   ]
  },
  {
   "cell_type": "code",
   "execution_count": 8,
   "metadata": {},
   "outputs": [],
   "source": [
    "def one_hot(allele, a1_freq):\n",
    "    if allele is None:\n",
    "        return [1.0 - a1_freq, a1_freq]\n",
    "    return [1 - allele, allele]"
   ]
  },
  {
   "cell_type": "code",
   "execution_count": 10,
   "metadata": {
    "tags": []
   },
   "outputs": [
    {
     "output_type": "stream",
     "name": "stdout",
     "text": [
      "0 22:16051453:A:C A C A C\n",
      "1 22:16061250:T:C T C T C\n",
      "1 22:16062095:GT:G GT G GT G\n",
      "0 22:16123252:T:A T A T A\n",
      "1 22:16123252:T:G T G T G\n",
      "1 22:16193637:C:T C T C T\n",
      "0 22:16202604:G:A G A G A\n",
      "1 22:16202725:C:T C T C T\n",
      "1 22:16252594:G:T G T G T\n",
      "0 22:16287538:G:A G A G A\n",
      "1 22:16287538:G:C G C G C\n",
      "0 22:16287739:G:A G A G A\n",
      "0 22:16404838:GA:GAA GA GAA GA GAA\n",
      "1 22:16404838:GA:G GA G GA G\n",
      "0 22:16405003:G:C G C G C\n",
      "1 22:16405003:G:T G T G T\n",
      "0 22:16446304:G:A G A G A\n",
      "1 22:16459639:AATAT:A AATAT A AATAT A\n",
      "1 22:16577044:TG:T TG T TG T\n",
      "1 22:16581168:G:T G T G T\n",
      "1 22:16592392:G:GAT G GAT G GAT\n",
      "1 22:16615065:G:T G T G T\n",
      "1 22:16618547:G:T G T G T\n",
      "1 22:16619758:C:G C G C G\n",
      "0 22:16658055:T:A T A T A\n",
      "0 22:16663541:C:G C G C G\n",
      "1 22:16663541:C:T C T C T\n",
      "0 22:16663648:G:A G A G A\n",
      "1 22:16663648:G:C G C G C\n",
      "0 22:16667843:A:C A C A C\n",
      "1 22:16667843:A:T A T A T\n",
      "0 22:16687910:CT:CTT CT CTT CT CTT\n",
      "1 22:16848573:C:T C T C T\n",
      "0 22:16851461:C:A C A C A\n",
      "1 22:16851461:C:T C T C T\n",
      "0 22:16852708:A:C A C A C\n",
      "0 22:16854058:C:G C G C G\n"
     ]
    }
   ],
   "source": [
    "label_fw = []\n",
    "legend_lines_split = np.array([(line.split()) for line in legend_lines])\n",
    "for line in region_lines:\n",
    "    items = line.rstrip().split()\n",
    "    position = int(items[region_position_col])\n",
    "    if int(items[region_flag_col]) == 0:\n",
    "        check_array = legend_positions_list == position\n",
    "        if np.sum(check_array) == 1:\n",
    "            list_allel_one_hot = []\n",
    "            for allele in hap_lines_split[check_array].astype(int)[0]:\n",
    "                list_allel_one_hot.append(one_hot(allele, None))\n",
    "            label_fw.append(list_allel_one_hot)\n",
    "        else:\n",
    "            ids = legend_lines_split[check_array][:, 0]\n",
    "            for index, id in enumerate(ids):\n",
    "                temp_id = id.split(\":\")\n",
    "                if temp_id[2] == items[2] and temp_id[3] == items[3]:\n",
    "                    print(index, id, items[2], items[3], temp_id[2], temp_id[3])\n",
    "                    list_allel_one_hot = []\n",
    "                    for allele in hap_lines_split[check_array].astype(int)[index]:\n",
    "                        list_allel_one_hot.append(one_hot(allele, None))\n",
    "                    label_fw.append(list_allel_one_hot)"
   ]
  },
  {
   "cell_type": "code",
   "execution_count": 21,
   "metadata": {},
   "outputs": [
    {
     "output_type": "execute_result",
     "data": {
      "text/plain": [
       "array([[1, 0],\n",
       "       [1, 0],\n",
       "       [1, 0],\n",
       "       ...,\n",
       "       [1, 0],\n",
       "       [1, 0],\n",
       "       [1, 0]])"
      ]
     },
     "metadata": {},
     "execution_count": 21
    }
   ],
   "source": [
    "a = np.array(label_fw).reshape(2,-1,2)\r\n",
    "a[0]"
   ]
  },
  {
   "cell_type": "code",
   "execution_count": 78,
   "metadata": {},
   "outputs": [
    {
     "output_type": "stream",
     "name": "stdout",
     "text": [
      "[1, 0]\n['0' '0']\n[1, 0]\n[1, 0]\n"
     ]
    },
    {
     "output_type": "execute_result",
     "data": {
      "text/plain": [
       "[array([1, 1]), array([0, 0])]"
      ]
     },
     "metadata": {},
     "execution_count": 78
    }
   ],
   "source": [
    "check_array = legend_positions_list == 16050115\n",
    "print(one_hot(hap_lines_split[check_array][0][0].astype(int),None))\n",
    "print(hap_lines_split[check_array][0])\n",
    "for allele in hap_lines_split[check_array][0].astype(int):\n",
    "    allele_tmp = one_hot(allele,None)\n",
    "    print(allele_tmp)\n",
    "one_hot(hap_lines_split[check_array][0].astype(int),None)\n"
   ]
  },
  {
   "cell_type": "code",
   "execution_count": null,
   "metadata": {},
   "outputs": [],
   "source": []
  }
 ]
}