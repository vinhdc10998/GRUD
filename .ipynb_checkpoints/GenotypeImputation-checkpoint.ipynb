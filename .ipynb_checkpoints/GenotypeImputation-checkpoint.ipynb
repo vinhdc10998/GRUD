{
 "cells": [
  {
   "cell_type": "code",
   "execution_count": 1,
   "metadata": {
    "colab": {
     "base_uri": "https://localhost:8080/"
    },
    "id": "EA57OmxkMNGs",
    "outputId": "a801a61e-744a-49c9-80df-714901ba26e6"
   },
   "outputs": [
    {
     "name": "stdout",
     "output_type": "stream",
     "text": [
      "Mounted at /content/drive\n"
     ]
    }
   ],
   "source": [
    "from google.colab import drive\n",
    "drive.mount('/content/drive')"
   ]
  },
  {
   "cell_type": "code",
   "execution_count": 5,
   "metadata": {
    "colab": {
     "base_uri": "https://localhost:8080/"
    },
    "id": "V_uP9Y0R1JPY",
    "outputId": "dcf43a7b-d486-4dd5-fb5d-00748ae00cdb"
   },
   "outputs": [
    {
     "name": "stdout",
     "output_type": "stream",
     "text": [
      "/content\n",
      "Cloning into 'GenotypeImputationGRU'...\n",
      "remote: Enumerating objects: 847, done.\u001b[K\n",
      "remote: Counting objects: 100% (245/245), done.\u001b[K\n",
      "remote: Compressing objects: 100% (188/188), done.\u001b[K\n",
      "remote: Total 847 (delta 143), reused 133 (delta 56), pack-reused 602\u001b[K\n",
      "Receiving objects: 100% (847/847), 220.51 MiB | 32.66 MiB/s, done.\n",
      "Resolving deltas: 100% (459/459), done.\n",
      "/content\n",
      "fatal: destination path 'GenotypeImputationGRU' already exists and is not an empty directory.\n"
     ]
    }
   ],
   "source": [
    "%cd /content\n",
    "!git clone https://github.com/vinhdc10998/GenotypeImputationGRU.git"
   ]
  },
  {
   "cell_type": "code",
   "execution_count": 3,
   "metadata": {
    "colab": {
     "base_uri": "https://localhost:8080/"
    },
    "id": "6Simczd91bRP",
    "outputId": "8f18f86b-709b-4b38-b79d-108f4b1aeae4"
   },
   "outputs": [
    {
     "name": "stdout",
     "output_type": "stream",
     "text": [
      "/content/GenotypeImputationGRU\n"
     ]
    }
   ],
   "source": [
    "%cd /content/GenotypeImputationGRU"
   ]
  },
  {
   "cell_type": "code",
   "execution_count": 4,
   "metadata": {
    "colab": {
     "base_uri": "https://localhost:8080/",
     "height": 1000
    },
    "id": "cXwbBtgg1wnB",
    "outputId": "5aff2bfc-5c49-4fd0-c3c7-b6d659a761ad"
   },
   "outputs": [
    {
     "name": "stdout",
     "output_type": "stream",
     "text": [
      "/content/GenotypeImputationGRU\n",
      "Requirement already satisfied: absl-py==0.12.0 in /usr/local/lib/python3.7/dist-packages (from -r requirements.txt (line 1)) (0.12.0)\n",
      "Collecting asciitree==0.3.3\n",
      "  Downloading https://files.pythonhosted.org/packages/2d/6a/885bc91484e1aa8f618f6f0228d76d0e67000b0fdd6090673b777e311913/asciitree-0.3.3.tar.gz\n",
      "Requirement already satisfied: astor==0.8.1 in /usr/local/lib/python3.7/dist-packages (from -r requirements.txt (line 3)) (0.8.1)\n",
      "Requirement already satisfied: backcall@ file:///home/ktietz/src/ci/backcall_1611930011877/work from file:///home/ktietz/src/ci/backcall_1611930011877/work in /usr/local/lib/python3.7/dist-packages (from -r requirements.txt (line 4)) (0.2.0)\n",
      "Collecting cached-property==1.5.2\n",
      "  Downloading https://files.pythonhosted.org/packages/48/19/f2090f7dad41e225c7f2326e4cfe6fff49e57dedb5b53636c9551f86b069/cached_property-1.5.2-py2.py3-none-any.whl\n",
      "Requirement already satisfied: certifi==2020.12.5 in /usr/local/lib/python3.7/dist-packages (from -r requirements.txt (line 6)) (2020.12.5)\n",
      "Requirement already satisfied: cycler==0.10.0 in /usr/local/lib/python3.7/dist-packages (from -r requirements.txt (line 7)) (0.10.0)\n",
      "Requirement already satisfied: Cython==0.29.22 in /usr/local/lib/python3.7/dist-packages (from -r requirements.txt (line 8)) (0.29.22)\n",
      "Collecting dask==2021.3.0\n",
      "\u001b[?25l  Downloading https://files.pythonhosted.org/packages/2e/86/95faa4a9c1f7fbfa2df2ae9e7e1a11349cb97a81e2f38ff9dda301606882/dask-2021.3.0-py3-none-any.whl (925kB)\n",
      "\u001b[K     |████████████████████████████████| 931kB 7.1MB/s \n",
      "\u001b[?25hRequirement already satisfied: decorator@ file:///home/ktietz/src/ci/decorator_1611930055503/work from file:///home/ktietz/src/ci/decorator_1611930055503/work in /usr/local/lib/python3.7/dist-packages (from -r requirements.txt (line 10)) (4.4.2)\n",
      "Collecting fasteners==0.16\n",
      "  Downloading https://files.pythonhosted.org/packages/78/20/c862d765287e9e8b29f826749ebae8775bdca50b2cb2ca079346d5fbfd76/fasteners-0.16-py2.py3-none-any.whl\n",
      "Collecting gast==0.2.2\n",
      "  Downloading https://files.pythonhosted.org/packages/4e/35/11749bf99b2d4e3cceb4d55ca22590b0d7c2c62b9de38ac4a4a7f4687421/gast-0.2.2.tar.gz\n",
      "Requirement already satisfied: google-pasta==0.2.0 in /usr/local/lib/python3.7/dist-packages (from -r requirements.txt (line 13)) (0.2.0)\n",
      "Collecting grpcio==1.36.1\n",
      "\u001b[?25l  Downloading https://files.pythonhosted.org/packages/81/6f/6d292b7012abe5dd797259d10a788935bfc96bc6c835f2d529d95f1e388e/grpcio-1.36.1-cp37-cp37m-manylinux2014_x86_64.whl (4.1MB)\n",
      "\u001b[K     |████████████████████████████████| 4.1MB 14.8MB/s \n",
      "\u001b[?25hCollecting h5py==3.1.0\n",
      "\u001b[?25l  Downloading https://files.pythonhosted.org/packages/9d/74/9eae2bedd8201ab464308f42c601a12d79727a1c87f0c867fdefb212c6cf/h5py-3.1.0-cp37-cp37m-manylinux1_x86_64.whl (4.0MB)\n",
      "\u001b[K     |████████████████████████████████| 4.0MB 46.5MB/s \n",
      "\u001b[?25hCollecting importlib-metadata==3.7.3\n",
      "  Downloading https://files.pythonhosted.org/packages/80/5d/0bbca82b16e01313cf0343167d4cfb90f6fade747cd4d10d368094b2883a/importlib_metadata-3.7.3-py3-none-any.whl\n",
      "Requirement already satisfied: ipykernel@ file:///tmp/build/80754af9/ipykernel_1596206602906/work/dist/ipykernel-5.3.4-py3-none-any.whl from file:///tmp/build/80754af9/ipykernel_1596206602906/work/dist/ipykernel-5.3.4-py3-none-any.whl in /usr/local/lib/python3.7/dist-packages (from -r requirements.txt (line 17)) (4.10.1)\n",
      "Requirement already satisfied: ipython@ file:///tmp/build/80754af9/ipython_1593447367857/work from file:///tmp/build/80754af9/ipython_1593447367857/work in /usr/local/lib/python3.7/dist-packages (from -r requirements.txt (line 18)) (5.5.0)\n",
      "Requirement already satisfied: ipython-genutils@ file:///tmp/build/80754af9/ipython_genutils_1606773439826/work from file:///tmp/build/80754af9/ipython_genutils_1606773439826/work in /usr/local/lib/python3.7/dist-packages (from -r requirements.txt (line 19)) (0.2.0)\n",
      "Collecting jedi==0.17.0\n",
      "\u001b[?25l  Downloading https://files.pythonhosted.org/packages/f3/3f/67f027e18c60a800875df1a0894a2436ce9053637fa39725766e937c0a71/jedi-0.17.0-py2.py3-none-any.whl (1.1MB)\n",
      "\u001b[K     |████████████████████████████████| 1.1MB 47.9MB/s \n",
      "\u001b[?25hRequirement already satisfied: joblib==1.0.1 in /usr/local/lib/python3.7/dist-packages (from -r requirements.txt (line 21)) (1.0.1)\n",
      "Requirement already satisfied: jupyter-client@ file:///tmp/build/80754af9/jupyter_client_1601311786391/work from file:///tmp/build/80754af9/jupyter_client_1601311786391/work in /usr/local/lib/python3.7/dist-packages (from -r requirements.txt (line 22)) (5.3.5)\n",
      "Requirement already satisfied: jupyter-core@ file:///tmp/build/80754af9/jupyter_core_1612213308682/work from file:///tmp/build/80754af9/jupyter_core_1612213308682/work in /usr/local/lib/python3.7/dist-packages (from -r requirements.txt (line 23)) (4.7.1)\n",
      "Collecting Keras-Applications==1.0.8\n",
      "\u001b[?25l  Downloading https://files.pythonhosted.org/packages/71/e3/19762fdfc62877ae9102edf6342d71b28fbfd9dea3d2f96a882ce099b03f/Keras_Applications-1.0.8-py3-none-any.whl (50kB)\n",
      "\u001b[K     |████████████████████████████████| 51kB 8.2MB/s \n",
      "\u001b[?25hRequirement already satisfied: Keras-Preprocessing==1.1.2 in /usr/local/lib/python3.7/dist-packages (from -r requirements.txt (line 25)) (1.1.2)\n",
      "Requirement already satisfied: kiwisolver==1.3.1 in /usr/local/lib/python3.7/dist-packages (from -r requirements.txt (line 26)) (1.3.1)\n",
      "Requirement already satisfied: Markdown==3.3.4 in /usr/local/lib/python3.7/dist-packages (from -r requirements.txt (line 27)) (3.3.4)\n",
      "Collecting matplotlib==3.3.4\n",
      "\u001b[?25l  Downloading https://files.pythonhosted.org/packages/23/3d/db9a6b3c83c9511301152dbb64a029c3a4313c86eaef12c237b13ecf91d6/matplotlib-3.3.4-cp37-cp37m-manylinux1_x86_64.whl (11.5MB)\n",
      "\u001b[K     |████████████████████████████████| 11.6MB 43.8MB/s \n",
      "\u001b[?25hCollecting numcodecs==0.7.3\n",
      "\u001b[?25l  Downloading https://files.pythonhosted.org/packages/e9/fa/a4450b9b6bac850d65316d00a1417e633fc0fe36d66cc6407640242cd8e4/numcodecs-0.7.3-cp37-cp37m-manylinux2010_x86_64.whl (5.8MB)\n",
      "\u001b[K     |████████████████████████████████| 5.8MB 7.3MB/s \n",
      "\u001b[?25hRequirement already satisfied: numpy==1.19.5 in /usr/local/lib/python3.7/dist-packages (from -r requirements.txt (line 30)) (1.19.5)\n",
      "Requirement already satisfied: parso@ file:///tmp/build/80754af9/parso_1607623074025/work from file:///tmp/build/80754af9/parso_1607623074025/work in /usr/local/lib/python3.7/dist-packages (from -r requirements.txt (line 31)) (0.8.2)\n",
      "Requirement already satisfied: pexpect@ file:///tmp/build/80754af9/pexpect_1605563209008/work from file:///tmp/build/80754af9/pexpect_1605563209008/work in /usr/local/lib/python3.7/dist-packages (from -r requirements.txt (line 32)) (4.8.0)\n",
      "Requirement already satisfied: pickleshare@ file:///tmp/build/80754af9/pickleshare_1606932040724/work from file:///tmp/build/80754af9/pickleshare_1606932040724/work in /usr/local/lib/python3.7/dist-packages (from -r requirements.txt (line 33)) (0.7.5)\n",
      "Collecting Pillow==8.2.0\n",
      "\u001b[?25l  Downloading https://files.pythonhosted.org/packages/33/34/542152297dcc6c47a9dcb0685eac6d652d878ed3cea83bf2b23cb988e857/Pillow-8.2.0-cp37-cp37m-manylinux1_x86_64.whl (3.0MB)\n",
      "\u001b[K     |████████████████████████████████| 3.0MB 46.2MB/s \n",
      "\u001b[?25hRequirement already satisfied: prompt-toolkit@ file:///tmp/build/80754af9/prompt-toolkit_1616415428029/work from file:///tmp/build/80754af9/prompt-toolkit_1616415428029/work in /usr/local/lib/python3.7/dist-packages (from -r requirements.txt (line 35)) (1.0.18)\n",
      "Collecting protobuf==3.15.6\n",
      "\u001b[?25l  Downloading https://files.pythonhosted.org/packages/7d/cc/abf8e30629db7a8b15efb79d4c87e235895d2c636ce7a4ac625cfc816f07/protobuf-3.15.6-cp37-cp37m-manylinux1_x86_64.whl (1.0MB)\n",
      "\u001b[K     |████████████████████████████████| 1.0MB 41.6MB/s \n",
      "\u001b[?25hRequirement already satisfied: ptyprocess@ file:///tmp/build/80754af9/ptyprocess_1609355006118/work/dist/ptyprocess-0.7.0-py2.py3-none-any.whl from file:///tmp/build/80754af9/ptyprocess_1609355006118/work/dist/ptyprocess-0.7.0-py2.py3-none-any.whl in /usr/local/lib/python3.7/dist-packages (from -r requirements.txt (line 37)) (0.7.0)\n",
      "Requirement already satisfied: Pygments@ file:///tmp/build/80754af9/pygments_1615143339740/work from file:///tmp/build/80754af9/pygments_1615143339740/work in /usr/local/lib/python3.7/dist-packages (from -r requirements.txt (line 38)) (2.6.1)\n",
      "Requirement already satisfied: pyparsing==2.4.7 in /usr/local/lib/python3.7/dist-packages (from -r requirements.txt (line 39)) (2.4.7)\n",
      "Requirement already satisfied: python-dateutil@ file:///home/ktietz/src/ci/python-dateutil_1611928101742/work from file:///home/ktietz/src/ci/python-dateutil_1611928101742/work in /usr/local/lib/python3.7/dist-packages (from -r requirements.txt (line 40)) (2.8.1)\n",
      "Collecting PyYAML==5.4.1\n",
      "\u001b[?25l  Downloading https://files.pythonhosted.org/packages/7a/a5/393c087efdc78091afa2af9f1378762f9821c9c1d7a22c5753fb5ac5f97a/PyYAML-5.4.1-cp37-cp37m-manylinux1_x86_64.whl (636kB)\n",
      "\u001b[K     |████████████████████████████████| 645kB 42.2MB/s \n",
      "\u001b[?25hCollecting pyzmq==20.0.0\n",
      "\u001b[?25l  Downloading https://files.pythonhosted.org/packages/76/34/d9e37e77e6887ded369a083550fd9221d716d77e09ecb914d82ee26c7188/pyzmq-20.0.0-cp37-cp37m-manylinux1_x86_64.whl (1.1MB)\n",
      "\u001b[K     |████████████████████████████████| 1.1MB 43.5MB/s \n",
      "\u001b[?25hCollecting scikit-allel==1.3.3\n",
      "\u001b[?25l  Downloading https://files.pythonhosted.org/packages/db/1d/bfdbb30eced4178d2c2677b94f78e26b856c9907cfb0e910fe4fd1811a9c/scikit-allel-1.3.3.tar.gz (10.8MB)\n",
      "\u001b[K     |████████████████████████████████| 10.8MB 27.4MB/s \n",
      "\u001b[?25hCollecting scikit-learn==0.24.1\n",
      "\u001b[?25l  Downloading https://files.pythonhosted.org/packages/f3/74/eb899f41d55f957e2591cde5528e75871f817d9fb46d4732423ecaca736d/scikit_learn-0.24.1-cp37-cp37m-manylinux2010_x86_64.whl (22.3MB)\n",
      "\u001b[K     |████████████████████████████████| 22.3MB 1.7MB/s \n",
      "\u001b[?25hCollecting scipy==1.5.4\n",
      "\u001b[?25l  Downloading https://files.pythonhosted.org/packages/dc/7e/8f6a79b102ca1ea928bae8998b05bf5dc24a90571db13cd119f275ba6252/scipy-1.5.4-cp37-cp37m-manylinux1_x86_64.whl (25.9MB)\n",
      "\u001b[K     |████████████████████████████████| 25.9MB 130kB/s \n",
      "\u001b[?25hRequirement already satisfied: six@ file:///tmp/build/80754af9/six_1605205335545/work from file:///tmp/build/80754af9/six_1605205335545/work in /usr/local/lib/python3.7/dist-packages (from -r requirements.txt (line 46)) (1.15.0)\n",
      "Requirement already satisfied: sklearn==0.0 in /usr/local/lib/python3.7/dist-packages (from -r requirements.txt (line 47)) (0.0)\n",
      "Requirement already satisfied: termcolor==1.1.0 in /usr/local/lib/python3.7/dist-packages (from -r requirements.txt (line 48)) (1.1.0)\n",
      "Collecting threadpoolctl==2.1.0\n",
      "  Downloading https://files.pythonhosted.org/packages/f7/12/ec3f2e203afa394a149911729357aa48affc59c20e2c1c8297a60f33f133/threadpoolctl-2.1.0-py3-none-any.whl\n",
      "Requirement already satisfied: toolz==0.11.1 in /usr/local/lib/python3.7/dist-packages (from -r requirements.txt (line 50)) (0.11.1)\n",
      "Requirement already satisfied: torch==1.8.1 in /usr/local/lib/python3.7/dist-packages (from -r requirements.txt (line 51)) (1.8.1+cu101)\n",
      "Requirement already satisfied: tornado@ file:///tmp/build/80754af9/tornado_1606942266872/work from file:///tmp/build/80754af9/tornado_1606942266872/work in /usr/local/lib/python3.7/dist-packages (from -r requirements.txt (line 52)) (5.1.1)\n",
      "Collecting traitlets==4.3.3\n",
      "\u001b[?25l  Downloading https://files.pythonhosted.org/packages/ca/ab/872a23e29cec3cf2594af7e857f18b687ad21039c1f9b922fac5b9b142d5/traitlets-4.3.3-py2.py3-none-any.whl (75kB)\n",
      "\u001b[K     |████████████████████████████████| 81kB 12.2MB/s \n",
      "\u001b[?25hRequirement already satisfied: typing-extensions==3.7.4.3 in /usr/local/lib/python3.7/dist-packages (from -r requirements.txt (line 54)) (3.7.4.3)\n",
      "Requirement already satisfied: wcwidth@ file:///tmp/build/80754af9/wcwidth_1593447189090/work from file:///tmp/build/80754af9/wcwidth_1593447189090/work in /usr/local/lib/python3.7/dist-packages (from -r requirements.txt (line 55)) (0.2.5)\n",
      "Requirement already satisfied: Werkzeug==1.0.1 in /usr/local/lib/python3.7/dist-packages (from -r requirements.txt (line 56)) (1.0.1)\n",
      "Requirement already satisfied: wrapt==1.12.1 in /usr/local/lib/python3.7/dist-packages (from -r requirements.txt (line 57)) (1.12.1)\n",
      "Collecting zarr==2.7.0\n",
      "\u001b[?25l  Downloading https://files.pythonhosted.org/packages/93/ae/653da881ff4281d5d59b3901e13a2127182e8679db10b322365588d43111/zarr-2.7.0-py3-none-any.whl (137kB)\n",
      "\u001b[K     |████████████████████████████████| 143kB 53.6MB/s \n",
      "\u001b[?25hRequirement already satisfied: zipp==3.4.1 in /usr/local/lib/python3.7/dist-packages (from -r requirements.txt (line 59)) (3.4.1)\n",
      "Requirement already satisfied: simplegeneric>0.8 in /usr/local/lib/python3.7/dist-packages (from ipython@ file:///tmp/build/80754af9/ipython_1593447367857/work->-r requirements.txt (line 18)) (0.8.1)\n",
      "Requirement already satisfied: setuptools>=18.5 in /usr/local/lib/python3.7/dist-packages (from ipython@ file:///tmp/build/80754af9/ipython_1593447367857/work->-r requirements.txt (line 18)) (56.0.0)\n",
      "Building wheels for collected packages: asciitree, gast, scikit-allel\n",
      "  Building wheel for asciitree (setup.py) ... \u001b[?25l\u001b[?25hdone\n",
      "  Created wheel for asciitree: filename=asciitree-0.3.3-cp37-none-any.whl size=5037 sha256=89396341bc6ee1cd867f140fe7d69a9b0b56cf2fd52dd69752b53a3efa827465\n",
      "  Stored in directory: /root/.cache/pip/wheels/1d/d9/58/9808b306744df0208fccc640d3d9952a5bc7468502d42897d5\n",
      "  Building wheel for gast (setup.py) ... \u001b[?25l\u001b[?25hdone\n",
      "  Created wheel for gast: filename=gast-0.2.2-cp37-none-any.whl size=7540 sha256=071eaa82b450d39528ffa06ef8abc1e9dc845761815fc2951dcf8d52f72829e1\n",
      "  Stored in directory: /root/.cache/pip/wheels/5c/2e/7e/a1d4d4fcebe6c381f378ce7743a3ced3699feb89bcfbdadadd\n",
      "  Building wheel for scikit-allel (setup.py) ... \u001b[?25l\u001b[?25hdone\n",
      "  Created wheel for scikit-allel: filename=scikit_allel-1.3.3-cp37-cp37m-linux_x86_64.whl size=4695969 sha256=5fca8a0b2709f57dff1d03caf139ff20fae6c3a74a13067411e063594458e046\n",
      "  Stored in directory: /root/.cache/pip/wheels/a7/2d/dc/a1ef6b48b94aa072114bbb8c81de4393adef3b595679aaa910\n",
      "Successfully built asciitree gast scikit-allel\n",
      "\u001b[31mERROR: tensorflow 2.4.1 has requirement gast==0.3.3, but you'll have gast 0.2.2 which is incompatible.\u001b[0m\n",
      "\u001b[31mERROR: tensorflow 2.4.1 has requirement grpcio~=1.32.0, but you'll have grpcio 1.36.1 which is incompatible.\u001b[0m\n",
      "\u001b[31mERROR: tensorflow 2.4.1 has requirement h5py~=2.10.0, but you'll have h5py 3.1.0 which is incompatible.\u001b[0m\n",
      "\u001b[31mERROR: tensorflow-probability 0.12.1 has requirement gast>=0.3.2, but you'll have gast 0.2.2 which is incompatible.\u001b[0m\n",
      "\u001b[31mERROR: nbclient 0.5.3 has requirement jupyter-client>=6.1.5, but you'll have jupyter-client 5.3.5 which is incompatible.\u001b[0m\n",
      "\u001b[31mERROR: albumentations 0.1.12 has requirement imgaug<0.2.7,>=0.2.5, but you'll have imgaug 0.2.9 which is incompatible.\u001b[0m\n",
      "Installing collected packages: asciitree, cached-property, PyYAML, dask, fasteners, gast, grpcio, h5py, importlib-metadata, jedi, Keras-Applications, Pillow, matplotlib, numcodecs, protobuf, pyzmq, scikit-allel, threadpoolctl, scipy, scikit-learn, traitlets, zarr\n",
      "  Found existing installation: PyYAML 3.13\n",
      "    Uninstalling PyYAML-3.13:\n",
      "      Successfully uninstalled PyYAML-3.13\n",
      "  Found existing installation: dask 2.12.0\n",
      "    Uninstalling dask-2.12.0:\n",
      "      Successfully uninstalled dask-2.12.0\n",
      "  Found existing installation: gast 0.3.3\n",
      "    Uninstalling gast-0.3.3:\n",
      "      Successfully uninstalled gast-0.3.3\n",
      "  Found existing installation: grpcio 1.32.0\n",
      "    Uninstalling grpcio-1.32.0:\n",
      "      Successfully uninstalled grpcio-1.32.0\n",
      "  Found existing installation: h5py 2.10.0\n",
      "    Uninstalling h5py-2.10.0:\n",
      "      Successfully uninstalled h5py-2.10.0\n",
      "  Found existing installation: importlib-metadata 3.10.1\n",
      "    Uninstalling importlib-metadata-3.10.1:\n",
      "      Successfully uninstalled importlib-metadata-3.10.1\n",
      "  Found existing installation: jedi 0.18.0\n",
      "    Uninstalling jedi-0.18.0:\n",
      "      Successfully uninstalled jedi-0.18.0\n",
      "  Found existing installation: Pillow 7.1.2\n",
      "    Uninstalling Pillow-7.1.2:\n",
      "      Successfully uninstalled Pillow-7.1.2\n",
      "  Found existing installation: matplotlib 3.2.2\n",
      "    Uninstalling matplotlib-3.2.2:\n",
      "      Successfully uninstalled matplotlib-3.2.2\n",
      "  Found existing installation: protobuf 3.12.4\n",
      "    Uninstalling protobuf-3.12.4:\n",
      "      Successfully uninstalled protobuf-3.12.4\n",
      "  Found existing installation: pyzmq 22.0.3\n",
      "    Uninstalling pyzmq-22.0.3:\n",
      "      Successfully uninstalled pyzmq-22.0.3\n",
      "  Found existing installation: scipy 1.4.1\n",
      "    Uninstalling scipy-1.4.1:\n",
      "      Successfully uninstalled scipy-1.4.1\n",
      "  Found existing installation: scikit-learn 0.22.2.post1\n",
      "    Uninstalling scikit-learn-0.22.2.post1:\n",
      "      Successfully uninstalled scikit-learn-0.22.2.post1\n",
      "  Found existing installation: traitlets 5.0.5\n",
      "    Uninstalling traitlets-5.0.5:\n",
      "      Successfully uninstalled traitlets-5.0.5\n",
      "Successfully installed Keras-Applications-1.0.8 Pillow-8.2.0 PyYAML-5.4.1 asciitree-0.3.3 cached-property-1.5.2 dask-2021.3.0 fasteners-0.16 gast-0.2.2 grpcio-1.36.1 h5py-3.1.0 importlib-metadata-3.7.3 jedi-0.17.0 matplotlib-3.3.4 numcodecs-0.7.3 protobuf-3.15.6 pyzmq-20.0.0 scikit-allel-1.3.3 scikit-learn-0.24.1 scipy-1.5.4 threadpoolctl-2.1.0 traitlets-4.3.3 zarr-2.7.0\n"
     ]
    },
    {
     "data": {
      "application/vnd.colab-display-data+json": {
       "pip_warning": {
        "packages": [
         "PIL",
         "google",
         "matplotlib",
         "mpl_toolkits",
         "traitlets",
         "zmq"
        ]
       }
      }
     },
     "metadata": {
      "tags": []
     },
     "output_type": "display_data"
    }
   ],
   "source": [
    "%cd /content/GenotypeImputationGRU\n",
    "!pip install -r requirements.txt"
   ]
  },
  {
   "cell_type": "markdown",
   "metadata": {
    "id": "darmSnrDgzVV"
   },
   "source": [
    "# TRAIN 124 SAMPLES"
   ]
  },
  {
   "cell_type": "code",
   "execution_count": null,
   "metadata": {
    "colab": {
     "base_uri": "https://localhost:8080/"
    },
    "id": "oR8BQmtfTEq2",
    "outputId": "69f587bc-6228-404a-81f4-21d3527af3f4"
   },
   "outputs": [
    {
     "name": "stdout",
     "output_type": "stream",
     "text": [
      "/content/GenotypeImputationGRU/data\n",
      "\n",
      "UNRAR 5.50 freeware      Copyright (c) 1993-2017 Alexander Roshal\n",
      "\n",
      "\n",
      "Extracting from /content/GenotypeImputationGRU/data/train_124_samples.rar\n",
      "\n",
      "Creating    train_124_samples                                         OK\n",
      "Extracting  train_124_samples/chr22_1.hap.gz                             \b\b\b\b  0%\b\b\b\b\b  OK \n",
      "Extracting  train_124_samples/chr22_1.legend.gz                          \b\b\b\b  0%\b\b\b\b\b  OK \n",
      "Extracting  train_124_samples/chr22_2.hap.gz                             \b\b\b\b  0%\b\b\b\b\b  OK \n",
      "Extracting  train_124_samples/chr22_2.legend.gz                          \b\b\b\b  0%\b\b\b\b\b  OK \n",
      "Extracting  train_124_samples/chr22_3.hap.gz                             \b\b\b\b  0%\b\b\b\b\b  OK \n",
      "Extracting  train_124_samples/chr22_3.legend.gz                          \b\b\b\b  0%\b\b\b\b\b  OK \n",
      "Extracting  train_124_samples/chr22_4.hap.gz                             \b\b\b\b  0%\b\b\b\b\b  OK \n",
      "Extracting  train_124_samples/chr22_4.legend.gz                          \b\b\b\b  0%\b\b\b\b\b  OK \n",
      "Extracting  train_124_samples/chr22_5.hap.gz                             \b\b\b\b  0%\b\b\b\b\b  OK \n",
      "Extracting  train_124_samples/chr22_5.legend.gz                          \b\b\b\b  0%\b\b\b\b\b  OK \n",
      "Extracting  train_124_samples/chr22_true.hap.gz                          \b\b\b\b 36%\b\b\b\b\b  OK \n",
      "Extracting  train_124_samples/chr22_true.legend.gz                       \b\b\b\b 72%\b\b\b\b 99%\b\b\b\b\b  OK \n",
      "Extracting  train_124_samples/index.txt                                  \b\b\b\b 99%\b\b\b\b\b  OK \n",
      "Extracting  train_124_samples/region_1.legend.gz                         \b\b\b\b 99%\b\b\b\b\b  OK \n",
      "Extracting  train_124_samples/region_2.legend.gz                         \b\b\b\b 99%\b\b\b\b\b  OK \n",
      "Extracting  train_124_samples/region_3.legend.gz                         \b\b\b\b 99%\b\b\b\b\b  OK \n",
      "Extracting  train_124_samples/region_4.legend.gz                         \b\b\b\b 99%\b\b\b\b\b  OK \n",
      "Extracting  train_124_samples/region_5.legend.gz                         \b\b\b\b 99%\b\b\b\b\b  OK \n",
      "Extracting  train_124_samples/train_124_samples.txt                      \b\b\b\b 99%\b\b\b\b\b  OK \n",
      "All OK\n"
     ]
    }
   ],
   "source": [
    "%cd /content/GenotypeImputationGRU/data\n",
    "!cp /content/drive/MyDrive/Genotype_Data/train_124_samples.rar ./\n",
    "!unrar x /content/GenotypeImputationGRU/data/train_124_samples.rar"
   ]
  },
  {
   "cell_type": "code",
   "execution_count": null,
   "metadata": {
    "colab": {
     "base_uri": "https://localhost:8080/"
    },
    "id": "ouHqmBNbPXn6",
    "outputId": "633ca278-66e0-4c7c-f5fc-e99d8c7306a4"
   },
   "outputs": [
    {
     "name": "stdout",
     "output_type": "stream",
     "text": [
      "/content/GenotypeImputationGRU/data/train_124_samples\n"
     ]
    }
   ],
   "source": [
    "%cd /content/GenotypeImputationGRU/data/train_124_samples\n",
    "!gzip -d  /content/GenotypeImputationGRU/data/train_124_samples/chr22_true.hap.gz"
   ]
  },
  {
   "cell_type": "markdown",
   "metadata": {
    "id": "IW3fXovFg3WM"
   },
   "source": [
    "# TRAIN 446 SAMPLES"
   ]
  },
  {
   "cell_type": "code",
   "execution_count": 6,
   "metadata": {
    "colab": {
     "base_uri": "https://localhost:8080/"
    },
    "id": "pG4sZy3Xg77r",
    "outputId": "de554eec-3045-42bc-cfaf-8152c0f7d76e"
   },
   "outputs": [
    {
     "name": "stdout",
     "output_type": "stream",
     "text": [
      "/content/GenotypeImputationGRU/data\n",
      "\n",
      "UNRAR 5.50 freeware      Copyright (c) 1993-2017 Alexander Roshal\n",
      "\n",
      "\n",
      "Extracting from /content/GenotypeImputationGRU/data/data_446_samples.rar\n",
      "\n",
      "Creating    data_446_samples                                          OK\n",
      "Extracting  data_446_samples/chr22_1.hap.gz                              \b\b\b\b  0%\b\b\b\b\b  OK \n",
      "Extracting  data_446_samples/chr22_1.legend.gz                           \b\b\b\b  0%\b\b\b\b\b  OK \n",
      "Extracting  data_446_samples/chr22_2.hap.gz                              \b\b\b\b  0%\b\b\b\b\b  OK \n",
      "Extracting  data_446_samples/chr22_2.legend.gz                           \b\b\b\b  0%\b\b\b\b\b  OK \n",
      "Extracting  data_446_samples/chr22_3.hap.gz                              \b\b\b\b  0%\b\b\b\b\b  OK \n",
      "Extracting  data_446_samples/chr22_3.legend.gz                           \b\b\b\b  0%\b\b\b\b\b  OK \n",
      "Extracting  data_446_samples/chr22_true.hap.gz                           \b\b\b\b 16%\b\b\b\b 32%\b\b\b\b 48%\b\b\b\b 64%\b\b\b\b 71%\b\b\b\b\b  OK \n",
      "Extracting  data_446_samples/chr22_true.legend.gz                        \b\b\b\b 88%\b\b\b\b 99%\b\b\b\b\b  OK \n",
      "Extracting  data_446_samples/index.txt                                   \b\b\b\b 99%\b\b\b\b\b  OK \n",
      "Extracting  data_446_samples/region_1.legend.gz                          \b\b\b\b 99%\b\b\b\b\b  OK \n",
      "Extracting  data_446_samples/region_2.legend.gz                          \b\b\b\b 99%\b\b\b\b\b  OK \n",
      "Extracting  data_446_samples/region_3.legend.gz                          \b\b\b\b 99%\b\b\b\b\b  OK \n",
      "All OK\n"
     ]
    }
   ],
   "source": [
    "%cd /content/GenotypeImputationGRU/data\n",
    "!cp /content/drive/MyDrive/Genotype_Data/data_446_samples.rar ./\n",
    "!unrar x /content/GenotypeImputationGRU/data/data_446_samples.rar"
   ]
  },
  {
   "cell_type": "code",
   "execution_count": 7,
   "metadata": {
    "colab": {
     "base_uri": "https://localhost:8080/"
    },
    "id": "Vf6BMuAug77v",
    "outputId": "573548be-07cb-4143-c972-03e2f1684d15"
   },
   "outputs": [
    {
     "name": "stdout",
     "output_type": "stream",
     "text": [
      "/content/GenotypeImputationGRU/data/data_446_samples\n"
     ]
    }
   ],
   "source": [
    "%cd /content/GenotypeImputationGRU/data/data_446_samples\n",
    "!gzip -d  /content/GenotypeImputationGRU/data/data_446_samples/chr22_true.hap.gz"
   ]
  },
  {
   "cell_type": "markdown",
   "metadata": {
    "id": "h7NIhSh6uq2p"
   },
   "source": [
    "# TEST 100 SAMPLES\n"
   ]
  },
  {
   "cell_type": "code",
   "execution_count": 8,
   "metadata": {
    "colab": {
     "base_uri": "https://localhost:8080/"
    },
    "id": "mpfSoaZVuu4N",
    "outputId": "b2a13c3c-917a-4d82-d13d-67225932e4c1"
   },
   "outputs": [
    {
     "name": "stdout",
     "output_type": "stream",
     "text": [
      "/content/GenotypeImputationGRU/data\n",
      "\n",
      "UNRAR 5.50 freeware      Copyright (c) 1993-2017 Alexander Roshal\n",
      "\n",
      "\n",
      "Extracting from /content/GenotypeImputationGRU/data/test_100_samples_GT.rar\n",
      "\n",
      "Creating    test_100_samples_GT                                       OK\n",
      "Extracting  test_100_samples_GT/chr22_1.hap.gz                           \b\b\b\b  0%\b\b\b\b\b  OK \n",
      "Extracting  test_100_samples_GT/chr22_1.legend.gz                        \b\b\b\b  0%\b\b\b\b\b  OK \n",
      "Extracting  test_100_samples_GT/chr22_10.hap.gz                          \b\b\b\b  0%\b\b\b\b\b  OK \n",
      "Extracting  test_100_samples_GT/chr22_10.legend.gz                       \b\b\b\b  0%\b\b\b\b\b  OK \n",
      "Extracting  test_100_samples_GT/chr22_2.hap.gz                           \b\b\b\b  0%\b\b\b\b\b  OK \n",
      "Extracting  test_100_samples_GT/chr22_2.legend.gz                        \b\b\b\b  0%\b\b\b\b\b  OK \n",
      "Extracting  test_100_samples_GT/chr22_3.hap.gz                           \b\b\b\b  0%\b\b\b\b\b  OK \n",
      "Extracting  test_100_samples_GT/chr22_3.legend.gz                        \b\b\b\b  0%\b\b\b\b\b  OK \n",
      "Extracting  test_100_samples_GT/chr22_4.hap.gz                           \b\b\b\b  0%\b\b\b\b\b  OK \n",
      "Extracting  test_100_samples_GT/chr22_4.legend.gz                        \b\b\b\b  0%\b\b\b\b\b  OK \n",
      "Extracting  test_100_samples_GT/chr22_5.hap.gz                           \b\b\b\b  0%\b\b\b\b\b  OK \n",
      "Extracting  test_100_samples_GT/chr22_5.legend.gz                        \b\b\b\b  0%\b\b\b\b\b  OK \n",
      "Extracting  test_100_samples_GT/chr22_6.hap.gz                           \b\b\b\b  0%\b\b\b\b\b  OK \n",
      "Extracting  test_100_samples_GT/chr22_6.legend.gz                        \b\b\b\b  0%\b\b\b\b\b  OK \n",
      "Extracting  test_100_samples_GT/chr22_7.hap.gz                           \b\b\b\b  0%\b\b\b\b\b  OK \n",
      "Extracting  test_100_samples_GT/chr22_7.legend.gz                        \b\b\b\b  0%\b\b\b\b\b  OK \n",
      "Extracting  test_100_samples_GT/chr22_8.hap.gz                           \b\b\b\b  0%\b\b\b\b\b  OK \n",
      "Extracting  test_100_samples_GT/chr22_8.legend.gz                        \b\b\b\b  0%\b\b\b\b\b  OK \n",
      "Extracting  test_100_samples_GT/chr22_9.hap.gz                           \b\b\b\b  0%\b\b\b\b\b  OK \n",
      "Extracting  test_100_samples_GT/chr22_9.legend.gz                        \b\b\b\b  0%\b\b\b\b\b  OK \n",
      "Extracting  test_100_samples_GT/chr22_true.hap                           \b\b\b\b 26%\b\b\b\b\b  OK \n",
      "Extracting  test_100_samples_GT/chr22_true.hap.gz                        \b\b\b\b 52%\b\b\b\b 53%\b\b\b\b\b  OK \n",
      "Extracting  test_100_samples_GT/chr22_true.legend.gz                     \b\b\b\b 79%\b\b\b\b 98%\b\b\b\b\b  OK \n",
      "Extracting  test_100_samples_GT/region_1.legend.gz                       \b\b\b\b 99%\b\b\b\b\b  OK \n",
      "Extracting  test_100_samples_GT/region_10.legend.gz                      \b\b\b\b 99%\b\b\b\b\b  OK \n",
      "Extracting  test_100_samples_GT/region_2.legend.gz                       \b\b\b\b 99%\b\b\b\b\b  OK \n",
      "Extracting  test_100_samples_GT/region_3.legend.gz                       \b\b\b\b 99%\b\b\b\b\b  OK \n",
      "Extracting  test_100_samples_GT/region_4.legend.gz                       \b\b\b\b 99%\b\b\b\b\b  OK \n",
      "Extracting  test_100_samples_GT/region_5.legend.gz                       \b\b\b\b 99%\b\b\b\b\b  OK \n",
      "Extracting  test_100_samples_GT/region_6.legend.gz                       \b\b\b\b 99%\b\b\b\b\b  OK \n",
      "Extracting  test_100_samples_GT/region_7.legend.gz                       \b\b\b\b 99%\b\b\b\b\b  OK \n",
      "Extracting  test_100_samples_GT/region_8.legend.gz                       \b\b\b\b 99%\b\b\b\b\b  OK \n",
      "Extracting  test_100_samples_GT/region_9.legend.gz                       \b\b\b\b 99%\b\b\b\b\b  OK \n",
      "All OK\n",
      "/content/GenotypeImputationGRU/data/test_100_samples_GT\n",
      "gzip: /content/GenotypeImputationGRU/data/test_100_samples_GT/chr22_true.hap already exists; do you wish to overwrite (y or n)? y\n"
     ]
    }
   ],
   "source": [
    "%cd /content/GenotypeImputationGRU/data\n",
    "!cp /content/drive/MyDrive/Genotype_Data/test_100_samples_GT.rar ./\n",
    "!unrar x /content/GenotypeImputationGRU/data/test_100_samples_GT.rar\n",
    "%cd /content/GenotypeImputationGRU/data/test_100_samples_GT"
   ]
  },
  {
   "cell_type": "markdown",
   "metadata": {
    "id": "HJDCWNdPg9gY"
   },
   "source": [
    "# TRAIN"
   ]
  },
  {
   "cell_type": "code",
   "execution_count": null,
   "metadata": {
    "colab": {
     "base_uri": "https://localhost:8080/"
    },
    "id": "S1A8JH1mN_n_",
    "outputId": "e9b5e3c3-7d4f-46c4-828d-fdc063c368c0"
   },
   "outputs": [
    {
     "name": "stdout",
     "output_type": "stream",
     "text": [
      "/content/GenotypeImputationGRU\n",
      "----------Training Region 3----------\n",
      "[DATASET]: torch.Size([892, 212, 2]) torch.Size([892, 1000]) torch.Size([1000])\n",
      "[DATASET]: torch.Size([200, 212, 2]) torch.Size([200, 1000]) torch.Size([1000])\n",
      "[Train - test]: 892 200 samples\n",
      "You're using GPU Tesla T4 to impute genotype\n",
      "Number of learnable parameters: 199220\n",
      "[REGION 3 - EPOCHS 1]: train_loss: 0.555826, train_r2: -22.825662, val_loss: 0.555593, val_r2: -16.076127\n",
      "[REGION 3 - EPOCHS 2]: train_loss: 0.554174, train_r2: -19.648588, val_loss: 0.553727, val_r2: -13.316640\n",
      "[REGION 3 - EPOCHS 3]: train_loss: 0.551997, train_r2: -17.009060, val_loss: 0.551331, val_r2: -11.084322\n",
      "[REGION 3 - EPOCHS 4]: train_loss: 0.549099, train_r2: -14.399098, val_loss: 0.548104, val_r2: -8.577221\n",
      "[REGION 3 - EPOCHS 5]: train_loss: 0.545069, train_r2: -11.985704, val_loss: 0.543594, val_r2: -6.698091\n",
      "[REGION 3 - EPOCHS 6]: train_loss: 0.540834, train_r2: -9.862170, val_loss: 0.538913, val_r2: -5.426920\n",
      "[REGION 3 - EPOCHS 7]: train_loss: 0.537349, train_r2: -8.719250, val_loss: 0.535242, val_r2: -4.805124\n",
      "[REGION 3 - EPOCHS 8]: train_loss: 0.533494, train_r2: -7.127267, val_loss: 0.530920, val_r2: -4.375400\n",
      "[REGION 3 - EPOCHS 9]: train_loss: 0.529032, train_r2: -5.996135, val_loss: 0.526050, val_r2: -3.608213\n",
      "[REGION 3 - EPOCHS 10]: train_loss: 0.523917, train_r2: -4.986585, val_loss: 0.520616, val_r2: -3.259794\n",
      "[REGION 3 - EPOCHS 11]: train_loss: 0.518348, train_r2: -4.112330, val_loss: 0.514548, val_r2: -2.484973\n",
      "[REGION 3 - EPOCHS 12]: train_loss: 0.514644, train_r2: -3.129488, val_loss: 0.511139, val_r2: -2.314851\n",
      "[REGION 3 - EPOCHS 13]: train_loss: 0.511584, train_r2: -2.671887, val_loss: 0.507895, val_r2: -1.817455\n",
      "[REGION 3 - EPOCHS 14]: train_loss: 0.507768, train_r2: -2.429266, val_loss: 0.504596, val_r2: -1.615310\n",
      "[REGION 3 - EPOCHS 15]: train_loss: 0.505246, train_r2: -2.230838, val_loss: 0.501358, val_r2: -1.504370\n",
      "[REGION 3 - EPOCHS 16]: train_loss: 0.502393, train_r2: -2.118528, val_loss: 0.498122, val_r2: -1.163296\n",
      "[REGION 3 - EPOCHS 17]: train_loss: 0.498880, train_r2: -1.893580, val_loss: 0.495468, val_r2: -1.027898\n"
     ]
    }
   ],
   "source": [
    "%cd /content/GenotypeImputationGRU\n",
    "!python train.py --root-dir /content/GenotypeImputationGRU/data/data_446_samples\\\n",
    "                  --model-config-dir model/config/\\\n",
    "                  --epochs 200\\\n",
    "                  --batch-size 100\\\n",
    "                  --region 3\\\n",
    "                  --model-type Higher\\\n",
    "                  --lr 0.0001\\\n",
    "                  --test-dir /content/GenotypeImputationGRU/data/test_100_samples_GT\\\n",
    "                  --gpu"
   ]
  },
  {
   "cell_type": "code",
   "execution_count": null,
   "metadata": {
    "colab": {
     "background_save": true,
     "base_uri": "https://localhost:8080/"
    },
    "id": "0ukKNwju2phV",
    "outputId": "775654ef-38c6-4cd6-aef8-aaf234f0b592"
   },
   "outputs": [
    {
     "name": "stdout",
     "output_type": "stream",
     "text": [
      "/content/GenotypeImputationGRU\n",
      "----------Training Region 4----------\n",
      "[DATASET]: torch.Size([248, 233, 2]) torch.Size([248, 923]) torch.Size([923])\n",
      "[Train - val]: 198 50\n",
      "You're using GPU Tesla K80 to impute genotype\n",
      "Number of learnable parameters: 231296\n",
      "[REGION 4 - EPOCHS 1]: train_loss: 0.898754, train_r2: -10.984859, val_loss: 0.053994, val_r2: -2.716493\n",
      "[REGION 4 - EPOCHS 2]: train_loss: 0.872705, train_r2: -9.662498, val_loss: 0.052328, val_r2: -2.342125\n",
      "[REGION 4 - EPOCHS 3]: train_loss: 0.836792, train_r2: -8.326675, val_loss: 0.050391, val_r2: -1.902711\n",
      "[REGION 4 - EPOCHS 4]: train_loss: 0.794217, train_r2: -6.524549, val_loss: 0.047530, val_r2: -1.398687\n",
      "[REGION 4 - EPOCHS 5]: train_loss: 0.739399, train_r2: -4.787683, val_loss: 0.043999, val_r2: -0.971324\n",
      "[REGION 4 - EPOCHS 6]: train_loss: 0.664403, train_r2: -3.495323, val_loss: 0.039557, val_r2: -0.602248\n",
      "[REGION 4 - EPOCHS 7]: train_loss: 0.586063, train_r2: -2.123120, val_loss: 0.034351, val_r2: -0.253226\n",
      "[REGION 4 - EPOCHS 8]: train_loss: 0.503665, train_r2: -1.268920, val_loss: 0.029297, val_r2: 0.046570\n",
      "[REGION 4 - EPOCHS 9]: train_loss: 0.433574, train_r2: -0.592005, val_loss: 0.025222, val_r2: 0.246662\n",
      "[REGION 4 - EPOCHS 10]: train_loss: 0.372414, train_r2: -0.005897, val_loss: 0.022218, val_r2: 0.286877\n",
      "[REGION 4 - EPOCHS 11]: train_loss: 0.356898, train_r2: 0.160652, val_loss: 0.021110, val_r2: 0.302501\n",
      "[REGION 4 - EPOCHS 12]: train_loss: 0.336782, train_r2: 0.181688, val_loss: 0.020220, val_r2: 0.312484\n",
      "[REGION 4 - EPOCHS 13]: train_loss: 0.310089, train_r2: 0.195150, val_loss: 0.019520, val_r2: 0.320861\n",
      "[REGION 4 - EPOCHS 14]: train_loss: 0.314513, train_r2: 0.203055, val_loss: 0.018976, val_r2: 0.328655\n",
      "[REGION 4 - EPOCHS 15]: train_loss: 0.301875, train_r2: 0.202517, val_loss: 0.018456, val_r2: 0.334640\n",
      "[REGION 4 - EPOCHS 16]: train_loss: 0.310122, train_r2: 0.206126, val_loss: 0.018116, val_r2: 0.335156\n",
      "[REGION 4 - EPOCHS 17]: train_loss: 0.301427, train_r2: 0.208234, val_loss: 0.017782, val_r2: 0.341089\n",
      "[REGION 4 - EPOCHS 18]: train_loss: 0.285956, train_r2: 0.210988, val_loss: 0.017491, val_r2: 0.344692\n",
      "[REGION 4 - EPOCHS 19]: train_loss: 0.293496, train_r2: 0.212154, val_loss: 0.017297, val_r2: 0.345943\n",
      "[REGION 4 - EPOCHS 20]: train_loss: 0.267520, train_r2: 0.214625, val_loss: 0.017066, val_r2: 0.346012\n",
      "[REGION 4 - EPOCHS 21]: train_loss: 0.261407, train_r2: 0.217148, val_loss: 0.017017, val_r2: 0.347917\n",
      "[REGION 4 - EPOCHS 22]: train_loss: 0.281437, train_r2: 0.217549, val_loss: 0.016959, val_r2: 0.346496\n",
      "[REGION 4 - EPOCHS 23]: train_loss: 0.256620, train_r2: 0.219384, val_loss: 0.016892, val_r2: 0.346223\n",
      "[REGION 4 - EPOCHS 24]: train_loss: 0.249405, train_r2: 0.217640, val_loss: 0.016831, val_r2: 0.348500\n",
      "[REGION 4 - EPOCHS 25]: train_loss: 0.273736, train_r2: 0.220047, val_loss: 0.016782, val_r2: 0.348791\n",
      "[REGION 4 - EPOCHS 26]: train_loss: 0.288344, train_r2: 0.220930, val_loss: 0.016693, val_r2: 0.349549\n",
      "[REGION 4 - EPOCHS 27]: train_loss: 0.264525, train_r2: 0.221748, val_loss: 0.016633, val_r2: 0.350894\n",
      "[REGION 4 - EPOCHS 28]: train_loss: 0.253208, train_r2: 0.224115, val_loss: 0.016594, val_r2: 0.350453\n",
      "[REGION 4 - EPOCHS 29]: train_loss: 0.271724, train_r2: 0.222150, val_loss: 0.016524, val_r2: 0.351076\n",
      "[REGION 4 - EPOCHS 30]: train_loss: 0.293467, train_r2: 0.223929, val_loss: 0.016469, val_r2: 0.353176\n",
      "[REGION 4 - EPOCHS 31]: train_loss: 0.283788, train_r2: 0.224882, val_loss: 0.016465, val_r2: 0.351640\n",
      "[REGION 4 - EPOCHS 32]: train_loss: 0.269660, train_r2: 0.225102, val_loss: 0.016410, val_r2: 0.354263\n",
      "[REGION 4 - EPOCHS 33]: train_loss: 0.264299, train_r2: 0.225608, val_loss: 0.016409, val_r2: 0.353458\n",
      "[REGION 4 - EPOCHS 34]: train_loss: 0.254025, train_r2: 0.226503, val_loss: 0.016377, val_r2: 0.352858\n",
      "[REGION 4 - EPOCHS 35]: train_loss: 0.272945, train_r2: 0.226202, val_loss: 0.016354, val_r2: 0.355819\n",
      "[REGION 4 - EPOCHS 36]: train_loss: 0.231808, train_r2: 0.225368, val_loss: 0.016349, val_r2: 0.354999\n",
      "[REGION 4 - EPOCHS 37]: train_loss: 0.269861, train_r2: 0.226142, val_loss: 0.016325, val_r2: 0.356525\n",
      "[REGION 4 - EPOCHS 38]: train_loss: 0.243163, train_r2: 0.227971, val_loss: 0.016310, val_r2: 0.356010\n",
      "[REGION 4 - EPOCHS 39]: train_loss: 0.273319, train_r2: 0.227674, val_loss: 0.016285, val_r2: 0.355811\n",
      "[REGION 4 - EPOCHS 40]: train_loss: 0.251124, train_r2: 0.229044, val_loss: 0.016279, val_r2: 0.353258\n",
      "[REGION 4 - EPOCHS 41]: train_loss: 0.259643, train_r2: 0.229713, val_loss: 0.016280, val_r2: 0.353616\n",
      "[REGION 4 - EPOCHS 42]: train_loss: 0.249841, train_r2: 0.228319, val_loss: 0.016237, val_r2: 0.359091\n",
      "[REGION 4 - EPOCHS 43]: train_loss: 0.271181, train_r2: 0.229898, val_loss: 0.016239, val_r2: 0.358939\n",
      "[REGION 4 - EPOCHS 44]: train_loss: 0.228122, train_r2: 0.227433, val_loss: 0.016233, val_r2: 0.357213\n",
      "[REGION 4 - EPOCHS 45]: train_loss: 0.243476, train_r2: 0.231148, val_loss: 0.016244, val_r2: 0.355121\n",
      "[REGION 4 - EPOCHS 46]: train_loss: 0.258186, train_r2: 0.231101, val_loss: 0.016208, val_r2: 0.358909\n",
      "[REGION 4 - EPOCHS 47]: train_loss: 0.249724, train_r2: 0.230193, val_loss: 0.016178, val_r2: 0.359916\n",
      "[REGION 4 - EPOCHS 48]: train_loss: 0.252155, train_r2: 0.230206, val_loss: 0.016193, val_r2: 0.358749\n",
      "[REGION 4 - EPOCHS 49]: train_loss: 0.267559, train_r2: 0.230884, val_loss: 0.016199, val_r2: 0.358200\n",
      "[REGION 4 - EPOCHS 50]: train_loss: 0.259025, train_r2: 0.231275, val_loss: 0.016160, val_r2: 0.359997\n",
      "[REGION 4 - EPOCHS 51]: train_loss: 0.262928, train_r2: 0.231182, val_loss: 0.016176, val_r2: 0.355311\n",
      "[REGION 4 - EPOCHS 52]: train_loss: 0.243631, train_r2: 0.230282, val_loss: 0.016183, val_r2: 0.354758\n",
      "[REGION 4 - EPOCHS 53]: train_loss: 0.231584, train_r2: 0.232285, val_loss: 0.016184, val_r2: 0.356175\n",
      "[REGION 4 - EPOCHS 54]: train_loss: 0.269885, train_r2: 0.231341, val_loss: 0.016166, val_r2: 0.355999\n",
      "[REGION 4 - EPOCHS 55]: train_loss: 0.271437, train_r2: 0.231876, val_loss: 0.016165, val_r2: 0.357340\n",
      "[REGION 4 - EPOCHS 56]: train_loss: 0.246516, train_r2: 0.231311, val_loss: 0.016153, val_r2: 0.360448\n",
      "[REGION 4 - EPOCHS 57]: train_loss: 0.292978, train_r2: 0.231644, val_loss: 0.016166, val_r2: 0.360036\n",
      "[REGION 4 - EPOCHS 58]: train_loss: 0.273322, train_r2: 0.232227, val_loss: 0.016132, val_r2: 0.361082\n",
      "[REGION 4 - EPOCHS 59]: train_loss: 0.253442, train_r2: 0.232147, val_loss: 0.016136, val_r2: 0.359512\n",
      "[REGION 4 - EPOCHS 60]: train_loss: 0.274448, train_r2: 0.231391, val_loss: 0.016153, val_r2: 0.359661\n",
      "[REGION 4 - EPOCHS 61]: train_loss: 0.236614, train_r2: 0.232478, val_loss: 0.016143, val_r2: 0.356242\n",
      "[REGION 4 - EPOCHS 62]: train_loss: 0.264718, train_r2: 0.231142, val_loss: 0.016153, val_r2: 0.357420\n",
      "[REGION 4 - EPOCHS 63]: train_loss: 0.260335, train_r2: 0.231893, val_loss: 0.016152, val_r2: 0.358431\n",
      "[REGION 4 - EPOCHS 64]: train_loss: 0.246880, train_r2: 0.232390, val_loss: 0.016124, val_r2: 0.359976\n",
      "[REGION 4 - EPOCHS 65]: train_loss: 0.241846, train_r2: 0.232612, val_loss: 0.016142, val_r2: 0.356605\n",
      "[REGION 4 - EPOCHS 66]: train_loss: 0.261598, train_r2: 0.234213, val_loss: 0.016133, val_r2: 0.358195\n",
      "[REGION 4 - EPOCHS 67]: train_loss: 0.257294, train_r2: 0.232556, val_loss: 0.016127, val_r2: 0.359154\n",
      "[REGION 4 - EPOCHS 68]: train_loss: 0.253931, train_r2: 0.233164, val_loss: 0.016124, val_r2: 0.358111\n",
      "[REGION 4 - EPOCHS 69]: train_loss: 0.259979, train_r2: 0.232727, val_loss: 0.016113, val_r2: 0.359972\n",
      "[REGION 4 - EPOCHS 70]: train_loss: 0.253084, train_r2: 0.232052, val_loss: 0.016089, val_r2: 0.360100\n",
      "[REGION 4 - EPOCHS 71]: train_loss: 0.244685, train_r2: 0.231473, val_loss: 0.016105, val_r2: 0.360503\n",
      "[REGION 4 - EPOCHS 72]: train_loss: 0.271638, train_r2: 0.231827, val_loss: 0.016098, val_r2: 0.361422\n",
      "[REGION 4 - EPOCHS 73]: train_loss: 0.281229, train_r2: 0.233385, val_loss: 0.016127, val_r2: 0.357165\n",
      "[REGION 4 - EPOCHS 74]: train_loss: 0.262748, train_r2: 0.231932, val_loss: 0.016104, val_r2: 0.359684\n",
      "[REGION 4 - EPOCHS 75]: train_loss: 0.263610, train_r2: 0.230729, val_loss: 0.016089, val_r2: 0.360794\n",
      "[REGION 4 - EPOCHS 76]: train_loss: 0.256000, train_r2: 0.231213, val_loss: 0.016108, val_r2: 0.360046\n",
      "[REGION 4 - EPOCHS 77]: train_loss: 0.252667, train_r2: 0.232745, val_loss: 0.016118, val_r2: 0.359067\n",
      "[REGION 4 - EPOCHS 78]: train_loss: 0.246020, train_r2: 0.232499, val_loss: 0.016096, val_r2: 0.360364\n",
      "[REGION 4 - EPOCHS 79]: train_loss: 0.265868, train_r2: 0.232621, val_loss: 0.016093, val_r2: 0.359716\n",
      "[REGION 4 - EPOCHS 80]: train_loss: 0.254806, train_r2: 0.232176, val_loss: 0.016098, val_r2: 0.360279\n",
      "[REGION 4 - EPOCHS 81]: train_loss: 0.253594, train_r2: 0.232466, val_loss: 0.016095, val_r2: 0.360800\n",
      "[REGION 4 - EPOCHS 82]: train_loss: 0.249234, train_r2: 0.233212, val_loss: 0.016114, val_r2: 0.361054\n",
      "[REGION 4 - EPOCHS 83]: train_loss: 0.244300, train_r2: 0.233562, val_loss: 0.016110, val_r2: 0.360716\n",
      "[REGION 4 - EPOCHS 84]: train_loss: 0.242519, train_r2: 0.230899, val_loss: 0.016101, val_r2: 0.360048\n",
      "[REGION 4 - EPOCHS 85]: train_loss: 0.257825, train_r2: 0.232213, val_loss: 0.016102, val_r2: 0.360625\n",
      "[REGION 4 - EPOCHS 86]: train_loss: 0.249173, train_r2: 0.232212, val_loss: 0.016086, val_r2: 0.359820\n",
      "[REGION 4 - EPOCHS 87]: train_loss: 0.262355, train_r2: 0.232609, val_loss: 0.016103, val_r2: 0.359248\n",
      "[REGION 4 - EPOCHS 88]: train_loss: 0.252358, train_r2: 0.233043, val_loss: 0.016085, val_r2: 0.361325\n",
      "[REGION 4 - EPOCHS 89]: train_loss: 0.251153, train_r2: 0.233350, val_loss: 0.016099, val_r2: 0.361064\n",
      "[REGION 4 - EPOCHS 90]: train_loss: 0.262523, train_r2: 0.232625, val_loss: 0.016090, val_r2: 0.360888\n",
      "[REGION 4 - EPOCHS 91]: train_loss: 0.262774, train_r2: 0.232520, val_loss: 0.016099, val_r2: 0.360046\n",
      "[REGION 4 - EPOCHS 92]: train_loss: 0.258779, train_r2: 0.231833, val_loss: 0.016100, val_r2: 0.359156\n",
      "[REGION 4 - EPOCHS 93]: train_loss: 0.281541, train_r2: 0.234172, val_loss: 0.016096, val_r2: 0.359713\n",
      "[REGION 4 - EPOCHS 94]: train_loss: 0.241904, train_r2: 0.232631, val_loss: 0.016114, val_r2: 0.356199\n",
      "[REGION 4 - EPOCHS 95]: train_loss: 0.277566, train_r2: 0.233332, val_loss: 0.016099, val_r2: 0.361220\n",
      "[REGION 4 - EPOCHS 96]: train_loss: 0.244592, train_r2: 0.231190, val_loss: 0.016106, val_r2: 0.361444\n",
      "[REGION 4 - EPOCHS 97]: train_loss: 0.253811, train_r2: 0.233191, val_loss: 0.016092, val_r2: 0.360045\n",
      "[REGION 4 - EPOCHS 98]: train_loss: 0.264794, train_r2: 0.232766, val_loss: 0.016076, val_r2: 0.361791\n",
      "[REGION 4 - EPOCHS 99]: train_loss: 0.253206, train_r2: 0.234010, val_loss: 0.016101, val_r2: 0.359062\n",
      "[REGION 4 - EPOCHS 100]: train_loss: 0.256229, train_r2: 0.234362, val_loss: 0.016077, val_r2: 0.359895\n",
      "[REGION 4 - EPOCHS 101]: train_loss: 0.241567, train_r2: 0.233355, val_loss: 0.016104, val_r2: 0.357833\n",
      "[REGION 4 - EPOCHS 102]: train_loss: 0.255863, train_r2: 0.233181, val_loss: 0.016103, val_r2: 0.362835\n",
      "[REGION 4 - EPOCHS 103]: train_loss: 0.280873, train_r2: 0.234772, val_loss: 0.016119, val_r2: 0.359265\n",
      "[REGION 4 - EPOCHS 104]: train_loss: 0.273934, train_r2: 0.234592, val_loss: 0.016059, val_r2: 0.360904\n",
      "[REGION 4 - EPOCHS 105]: train_loss: 0.265456, train_r2: 0.231427, val_loss: 0.016098, val_r2: 0.359831\n",
      "[REGION 4 - EPOCHS 106]: train_loss: 0.251900, train_r2: 0.231909, val_loss: 0.016096, val_r2: 0.360454\n",
      "[REGION 4 - EPOCHS 107]: train_loss: 0.271115, train_r2: 0.230664, val_loss: 0.016092, val_r2: 0.360161\n",
      "[REGION 4 - EPOCHS 108]: train_loss: 0.250243, train_r2: 0.232053, val_loss: 0.016110, val_r2: 0.358081\n",
      "[REGION 4 - EPOCHS 109]: train_loss: 0.272059, train_r2: 0.233128, val_loss: 0.016081, val_r2: 0.360395\n",
      "[REGION 4 - EPOCHS 110]: train_loss: 0.240919, train_r2: 0.231432, val_loss: 0.016098, val_r2: 0.360192\n",
      "[REGION 4 - EPOCHS 111]: train_loss: 0.240778, train_r2: 0.232281, val_loss: 0.016099, val_r2: 0.358625\n",
      "[REGION 4 - EPOCHS 112]: train_loss: 0.266607, train_r2: 0.234721, val_loss: 0.016107, val_r2: 0.361413\n",
      "[REGION 4 - EPOCHS 113]: train_loss: 0.248942, train_r2: 0.233346, val_loss: 0.016108, val_r2: 0.359571\n",
      "[REGION 4 - EPOCHS 114]: train_loss: 0.259228, train_r2: 0.232913, val_loss: 0.016110, val_r2: 0.361709\n",
      "[REGION 4 - EPOCHS 115]: train_loss: 0.249321, train_r2: 0.232627, val_loss: 0.016096, val_r2: 0.358806\n",
      "[REGION 4 - EPOCHS 116]: train_loss: 0.244956, train_r2: 0.233432, val_loss: 0.016104, val_r2: 0.356617\n",
      "[REGION 4 - EPOCHS 117]: train_loss: 0.240969, train_r2: 0.231275, val_loss: 0.016073, val_r2: 0.361776\n",
      "[REGION 4 - EPOCHS 118]: train_loss: 0.266387, train_r2: 0.233157, val_loss: 0.016088, val_r2: 0.359519\n",
      "[REGION 4 - EPOCHS 119]: train_loss: 0.258224, train_r2: 0.231769, val_loss: 0.016082, val_r2: 0.360696\n",
      "[REGION 4 - EPOCHS 120]: train_loss: 0.252016, train_r2: 0.231799, val_loss: 0.016093, val_r2: 0.359959\n",
      "[REGION 4 - EPOCHS 121]: train_loss: 0.253201, train_r2: 0.231733, val_loss: 0.016082, val_r2: 0.360686\n",
      "[REGION 4 - EPOCHS 122]: train_loss: 0.262594, train_r2: 0.233680, val_loss: 0.016081, val_r2: 0.361463\n",
      "[REGION 4 - EPOCHS 123]: train_loss: 0.257058, train_r2: 0.234153, val_loss: 0.016091, val_r2: 0.361415\n",
      "[REGION 4 - EPOCHS 124]: train_loss: 0.277375, train_r2: 0.233608, val_loss: 0.016112, val_r2: 0.357720\n",
      "[REGION 4 - EPOCHS 125]: train_loss: 0.260894, train_r2: 0.231750, val_loss: 0.016081, val_r2: 0.359648\n",
      "[REGION 4 - EPOCHS 126]: train_loss: 0.260290, train_r2: 0.233742, val_loss: 0.016095, val_r2: 0.362571\n",
      "[REGION 4 - EPOCHS 127]: train_loss: 0.257204, train_r2: 0.232683, val_loss: 0.016103, val_r2: 0.357033\n",
      "[REGION 4 - EPOCHS 128]: train_loss: 0.253180, train_r2: 0.234129, val_loss: 0.016085, val_r2: 0.360145\n",
      "[REGION 4 - EPOCHS 129]: train_loss: 0.274768, train_r2: 0.232576, val_loss: 0.016112, val_r2: 0.359357\n",
      "[REGION 4 - EPOCHS 130]: train_loss: 0.266586, train_r2: 0.233820, val_loss: 0.016097, val_r2: 0.360903\n",
      "[REGION 4 - EPOCHS 131]: train_loss: 0.240622, train_r2: 0.232778, val_loss: 0.016115, val_r2: 0.359063\n",
      "[REGION 4 - EPOCHS 132]: train_loss: 0.266543, train_r2: 0.232155, val_loss: 0.016081, val_r2: 0.361827\n",
      "[REGION 4 - EPOCHS 133]: train_loss: 0.242398, train_r2: 0.232762, val_loss: 0.016090, val_r2: 0.359562\n",
      "[REGION 4 - EPOCHS 134]: train_loss: 0.254907, train_r2: 0.232324, val_loss: 0.016107, val_r2: 0.358467\n",
      "[REGION 4 - EPOCHS 135]: train_loss: 0.248938, train_r2: 0.232586, val_loss: 0.016094, val_r2: 0.358802\n",
      "[REGION 4 - EPOCHS 136]: train_loss: 0.278591, train_r2: 0.234819, val_loss: 0.016102, val_r2: 0.361361\n",
      "[REGION 4 - EPOCHS 137]: train_loss: 0.259550, train_r2: 0.233271, val_loss: 0.016074, val_r2: 0.361460\n",
      "[REGION 4 - EPOCHS 138]: train_loss: 0.256160, train_r2: 0.232271, val_loss: 0.016066, val_r2: 0.361280\n",
      "[REGION 4 - EPOCHS 139]: train_loss: 0.243481, train_r2: 0.231321, val_loss: 0.016096, val_r2: 0.358807\n",
      "[REGION 4 - EPOCHS 140]: train_loss: 0.266125, train_r2: 0.234141, val_loss: 0.016079, val_r2: 0.360796\n",
      "[REGION 4 - EPOCHS 141]: train_loss: 0.248859, train_r2: 0.233247, val_loss: 0.016074, val_r2: 0.360886\n",
      "[REGION 4 - EPOCHS 142]: train_loss: 0.289712, train_r2: 0.231609, val_loss: 0.016100, val_r2: 0.361536\n",
      "[REGION 4 - EPOCHS 143]: train_loss: 0.237190, train_r2: 0.231603, val_loss: 0.016086, val_r2: 0.360526\n",
      "[REGION 4 - EPOCHS 144]: train_loss: 0.260142, train_r2: 0.232472, val_loss: 0.016087, val_r2: 0.360452\n",
      "[REGION 4 - EPOCHS 145]: train_loss: 0.244078, train_r2: 0.233906, val_loss: 0.016088, val_r2: 0.359830\n",
      "[REGION 4 - EPOCHS 146]: train_loss: 0.262843, train_r2: 0.233345, val_loss: 0.016097, val_r2: 0.359216\n",
      "[REGION 4 - EPOCHS 147]: train_loss: 0.244387, train_r2: 0.231758, val_loss: 0.016109, val_r2: 0.359753\n",
      "[REGION 4 - EPOCHS 148]: train_loss: 0.269870, train_r2: 0.233993, val_loss: 0.016077, val_r2: 0.360677\n",
      "[REGION 4 - EPOCHS 149]: train_loss: 0.285894, train_r2: 0.231183, val_loss: 0.016100, val_r2: 0.356094\n",
      "[REGION 4 - EPOCHS 150]: train_loss: 0.265664, train_r2: 0.232588, val_loss: 0.016100, val_r2: 0.358632\n",
      "[REGION 4 - EPOCHS 151]: train_loss: 0.252853, train_r2: 0.233761, val_loss: 0.016099, val_r2: 0.359126\n",
      "[REGION 4 - EPOCHS 152]: train_loss: 0.253574, train_r2: 0.230840, val_loss: 0.016086, val_r2: 0.359973\n",
      "[REGION 4 - EPOCHS 153]: train_loss: 0.259997, train_r2: 0.234474, val_loss: 0.016086, val_r2: 0.360959\n",
      "[REGION 4 - EPOCHS 154]: train_loss: 0.255926, train_r2: 0.232424, val_loss: 0.016090, val_r2: 0.359667\n",
      "[REGION 4 - EPOCHS 155]: train_loss: 0.249756, train_r2: 0.233710, val_loss: 0.016076, val_r2: 0.361080\n",
      "[REGION 4 - EPOCHS 156]: train_loss: 0.263155, train_r2: 0.232169, val_loss: 0.016093, val_r2: 0.360050\n",
      "[REGION 4 - EPOCHS 157]: train_loss: 0.252650, train_r2: 0.230288, val_loss: 0.016078, val_r2: 0.361617\n",
      "[REGION 4 - EPOCHS 158]: train_loss: 0.246376, train_r2: 0.232807, val_loss: 0.016095, val_r2: 0.359789\n",
      "[REGION 4 - EPOCHS 159]: train_loss: 0.263246, train_r2: 0.230698, val_loss: 0.016104, val_r2: 0.357771\n",
      "[REGION 4 - EPOCHS 160]: train_loss: 0.261764, train_r2: 0.230891, val_loss: 0.016075, val_r2: 0.360741\n",
      "[REGION 4 - EPOCHS 161]: train_loss: 0.273233, train_r2: 0.232945, val_loss: 0.016088, val_r2: 0.360145\n",
      "[REGION 4 - EPOCHS 162]: train_loss: 0.273340, train_r2: 0.232700, val_loss: 0.016092, val_r2: 0.361504\n",
      "[REGION 4 - EPOCHS 163]: train_loss: 0.270289, train_r2: 0.232037, val_loss: 0.016108, val_r2: 0.359740\n",
      "[REGION 4 - EPOCHS 164]: train_loss: 0.275773, train_r2: 0.231917, val_loss: 0.016094, val_r2: 0.360051\n",
      "[REGION 4 - EPOCHS 165]: train_loss: 0.251571, train_r2: 0.234060, val_loss: 0.016077, val_r2: 0.360351\n",
      "[REGION 4 - EPOCHS 166]: train_loss: 0.258994, train_r2: 0.233549, val_loss: 0.016070, val_r2: 0.359335\n",
      "[REGION 4 - EPOCHS 167]: train_loss: 0.280688, train_r2: 0.232972, val_loss: 0.016085, val_r2: 0.361148\n",
      "[REGION 4 - EPOCHS 168]: train_loss: 0.235270, train_r2: 0.233051, val_loss: 0.016102, val_r2: 0.363008\n",
      "[REGION 4 - EPOCHS 169]: train_loss: 0.253340, train_r2: 0.232058, val_loss: 0.016111, val_r2: 0.357437\n",
      "[REGION 4 - EPOCHS 170]: train_loss: 0.290289, train_r2: 0.232849, val_loss: 0.016070, val_r2: 0.361884\n",
      "[REGION 4 - EPOCHS 171]: train_loss: 0.248499, train_r2: 0.234232, val_loss: 0.016064, val_r2: 0.362150\n",
      "[REGION 4 - EPOCHS 172]: train_loss: 0.248835, train_r2: 0.233683, val_loss: 0.016074, val_r2: 0.360840\n",
      "[REGION 4 - EPOCHS 173]: train_loss: 0.247857, train_r2: 0.233743, val_loss: 0.016088, val_r2: 0.359519\n",
      "[REGION 4 - EPOCHS 174]: train_loss: 0.236803, train_r2: 0.232701, val_loss: 0.016092, val_r2: 0.358977\n",
      "[REGION 4 - EPOCHS 175]: train_loss: 0.237036, train_r2: 0.233565, val_loss: 0.016086, val_r2: 0.360620\n",
      "[REGION 4 - EPOCHS 176]: train_loss: 0.283096, train_r2: 0.233801, val_loss: 0.016091, val_r2: 0.361677\n",
      "[REGION 4 - EPOCHS 177]: train_loss: 0.260163, train_r2: 0.232792, val_loss: 0.016102, val_r2: 0.358109\n",
      "[REGION 4 - EPOCHS 178]: train_loss: 0.256379, train_r2: 0.230892, val_loss: 0.016096, val_r2: 0.360549\n",
      "[REGION 4 - EPOCHS 179]: train_loss: 0.251735, train_r2: 0.233376, val_loss: 0.016096, val_r2: 0.360106\n",
      "[REGION 4 - EPOCHS 180]: train_loss: 0.272246, train_r2: 0.230012, val_loss: 0.016089, val_r2: 0.359845\n",
      "[REGION 4 - EPOCHS 181]: train_loss: 0.247212, train_r2: 0.232189, val_loss: 0.016106, val_r2: 0.363009\n",
      "[REGION 4 - EPOCHS 182]: train_loss: 0.271315, train_r2: 0.232446, val_loss: 0.016082, val_r2: 0.359924\n",
      "[REGION 4 - EPOCHS 183]: train_loss: 0.253949, train_r2: 0.231379, val_loss: 0.016090, val_r2: 0.360062\n",
      "[REGION 4 - EPOCHS 184]: train_loss: 0.273995, train_r2: 0.233336, val_loss: 0.016085, val_r2: 0.360713\n",
      "[REGION 4 - EPOCHS 185]: train_loss: 0.281288, train_r2: 0.232474, val_loss: 0.016104, val_r2: 0.360402\n",
      "[REGION 4 - EPOCHS 186]: train_loss: 0.274712, train_r2: 0.232770, val_loss: 0.016083, val_r2: 0.360668\n",
      "[REGION 4 - EPOCHS 187]: train_loss: 0.272151, train_r2: 0.233664, val_loss: 0.016109, val_r2: 0.358028\n",
      "[REGION 4 - EPOCHS 188]: train_loss: 0.249923, train_r2: 0.234007, val_loss: 0.016113, val_r2: 0.358825\n",
      "[REGION 4 - EPOCHS 189]: train_loss: 0.242886, train_r2: 0.232527, val_loss: 0.016115, val_r2: 0.361522\n",
      "[REGION 4 - EPOCHS 190]: train_loss: 0.255029, train_r2: 0.233634, val_loss: 0.016075, val_r2: 0.359804\n",
      "[REGION 4 - EPOCHS 191]: train_loss: 0.268647, train_r2: 0.233399, val_loss: 0.016104, val_r2: 0.358795\n",
      "[REGION 4 - EPOCHS 192]: train_loss: 0.255934, train_r2: 0.232625, val_loss: 0.016113, val_r2: 0.358837\n",
      "[REGION 4 - EPOCHS 193]: train_loss: 0.252035, train_r2: 0.231945, val_loss: 0.016086, val_r2: 0.361588\n",
      "[REGION 4 - EPOCHS 194]: train_loss: 0.259271, train_r2: 0.233081, val_loss: 0.016105, val_r2: 0.358650\n",
      "[REGION 4 - EPOCHS 195]: train_loss: 0.266565, train_r2: 0.232716, val_loss: 0.016107, val_r2: 0.357646\n",
      "[REGION 4 - EPOCHS 196]: train_loss: 0.258033, train_r2: 0.232350, val_loss: 0.016094, val_r2: 0.359641\n",
      "[REGION 4 - EPOCHS 197]: train_loss: 0.282657, train_r2: 0.233141, val_loss: 0.016084, val_r2: 0.361405\n",
      "[REGION 4 - EPOCHS 198]: train_loss: 0.279601, train_r2: 0.231978, val_loss: 0.016116, val_r2: 0.362494\n",
      "[REGION 4 - EPOCHS 199]: train_loss: 0.274648, train_r2: 0.232475, val_loss: 0.016087, val_r2: 0.360884\n",
      "[REGION 4 - EPOCHS 200]: train_loss: 0.273753, train_r2: 0.233278, val_loss: 0.016091, val_r2: 0.360110\n",
      "Best model at epochs 181 with R2 score: 0.363008840807264\n"
     ]
    }
   ],
   "source": [
    "%cd /content/GenotypeImputationGRU\n",
    "!python train.py --root-dir /content/GenotypeImputationGRU/data/train_124_samples\\\n",
    "                  --model-config-dir model/config/\\\n",
    "                  --epochs 200\\\n",
    "                  --batch-size 20\\\n",
    "                  --region 4\\\n",
    "                  --model-type Lower\\\n",
    "                  --lr 0.0001\\\n",
    "                  --gpu"
   ]
  },
  {
   "cell_type": "code",
   "execution_count": null,
   "metadata": {
    "colab": {
     "base_uri": "https://localhost:8080/"
    },
    "id": "VfDFZP5Xb9Fm",
    "outputId": "416103d6-9136-4687-c5cc-43760607ce81"
   },
   "outputs": [
    {
     "name": "stdout",
     "output_type": "stream",
     "text": [
      "/content/GenotypeImputationGRU\n",
      "----------Training Region 3----------\n",
      "[DATASET]: (248, 212, 2) (248, 1000) (1000,)\n",
      "[Train - Test]: 198 50\n",
      "You're using GPU Tesla T4 to impute genotype\n",
      "Number of learnable parameters: 10000\n",
      "[REGION 3 - EPOCHS 1]: train_loss: 0.733742, train_r2: -1.303209, test_loss: 0.731663, test_r2: -0.767177\n",
      "[REGION 3 - EPOCHS 2]: train_loss: 0.730814, train_r2: -1.174281, test_loss: 0.729474, test_r2: -0.811305\n",
      "[REGION 3 - EPOCHS 3]: train_loss: 0.727629, train_r2: -1.187005, test_loss: 0.728248, test_r2: -0.806656\n",
      "[REGION 3 - EPOCHS 4]: train_loss: 0.724951, train_r2: -1.295146, test_loss: 0.723389, test_r2: -0.763398\n",
      "[REGION 3 - EPOCHS 5]: train_loss: 0.721428, train_r2: -1.203032, test_loss: 0.722144, test_r2: -0.710181\n",
      "[REGION 3 - EPOCHS 6]: train_loss: 0.718783, train_r2: -1.205761, test_loss: 0.717649, test_r2: -0.809920\n",
      "[REGION 3 - EPOCHS 7]: train_loss: 0.716167, train_r2: -1.212000, test_loss: 0.713738, test_r2: -0.827970\n",
      "[REGION 3 - EPOCHS 8]: train_loss: 0.713084, train_r2: -1.177886, test_loss: 0.714184, test_r2: -0.698146\n",
      "[REGION 3 - EPOCHS 9]: train_loss: 0.711398, train_r2: -1.272716, test_loss: 0.710936, test_r2: -0.818596\n",
      "[REGION 3 - EPOCHS 10]: train_loss: 0.709854, train_r2: -1.216815, test_loss: 0.711600, test_r2: -0.580303\n",
      "[REGION 3 - EPOCHS 11]: train_loss: 0.708484, train_r2: -1.147361, test_loss: 0.706341, test_r2: -0.660119\n",
      "[REGION 3 - EPOCHS 12]: train_loss: 0.706556, train_r2: -1.064198, test_loss: 0.705428, test_r2: -0.655054\n",
      "[REGION 3 - EPOCHS 13]: train_loss: 0.705541, train_r2: -1.159589, test_loss: 0.704532, test_r2: -0.765717\n",
      "[REGION 3 - EPOCHS 14]: train_loss: 0.704002, train_r2: -1.308747, test_loss: 0.703979, test_r2: -0.764156\n",
      "[REGION 3 - EPOCHS 15]: train_loss: 0.702708, train_r2: -1.124363, test_loss: 0.703515, test_r2: -0.565695\n",
      "[REGION 3 - EPOCHS 16]: train_loss: 0.701726, train_r2: -1.052256, test_loss: 0.701864, test_r2: -0.711034\n",
      "[REGION 3 - EPOCHS 17]: train_loss: 0.700528, train_r2: -1.161128, test_loss: 0.700271, test_r2: -0.718125\n",
      "[REGION 3 - EPOCHS 18]: train_loss: 0.699950, train_r2: -1.059223, test_loss: 0.701147, test_r2: -0.738288\n",
      "[REGION 3 - EPOCHS 19]: train_loss: 0.699170, train_r2: -1.110054, test_loss: 0.698242, test_r2: -0.670425\n",
      "[REGION 3 - EPOCHS 20]: train_loss: 0.698496, train_r2: -1.086909, test_loss: 0.700471, test_r2: -0.678532\n",
      "[REGION 3 - EPOCHS 21]: train_loss: 0.697879, train_r2: -1.199584, test_loss: 0.699811, test_r2: -0.781602\n",
      "[REGION 3 - EPOCHS 22]: train_loss: 0.697262, train_r2: -1.056556, test_loss: 0.699528, test_r2: -0.708892\n",
      "[REGION 3 - EPOCHS 23]: train_loss: 0.696640, train_r2: -1.177101, test_loss: 0.696769, test_r2: -0.711636\n",
      "[REGION 3 - EPOCHS 24]: train_loss: 0.696052, train_r2: -1.050584, test_loss: 0.695920, test_r2: -0.654411\n",
      "[REGION 3 - EPOCHS 25]: train_loss: 0.695877, train_r2: -1.096149, test_loss: 0.696967, test_r2: -0.621735\n",
      "[REGION 3 - EPOCHS 26]: train_loss: 0.695088, train_r2: -1.129844, test_loss: 0.696693, test_r2: -0.602374\n",
      "[REGION 3 - EPOCHS 27]: train_loss: 0.694837, train_r2: -1.036347, test_loss: 0.696012, test_r2: -0.639600\n",
      "[REGION 3 - EPOCHS 28]: train_loss: 0.694387, train_r2: -1.078989, test_loss: 0.696182, test_r2: -0.791466\n",
      "[REGION 3 - EPOCHS 29]: train_loss: 0.694223, train_r2: -1.117695, test_loss: 0.694189, test_r2: -0.634660\n",
      "[REGION 3 - EPOCHS 30]: train_loss: 0.694021, train_r2: -1.130787, test_loss: 0.694889, test_r2: -0.668316\n",
      "[REGION 3 - EPOCHS 31]: train_loss: 0.693508, train_r2: -1.241921, test_loss: 0.695537, test_r2: -0.749558\n",
      "[REGION 3 - EPOCHS 32]: train_loss: 0.693277, train_r2: -1.112300, test_loss: 0.693808, test_r2: -0.566507\n",
      "[REGION 3 - EPOCHS 33]: train_loss: 0.693258, train_r2: -1.075224, test_loss: 0.692802, test_r2: -0.701510\n",
      "[REGION 3 - EPOCHS 34]: train_loss: 0.692794, train_r2: -1.269460, test_loss: 0.693531, test_r2: -0.731008\n",
      "[REGION 3 - EPOCHS 35]: train_loss: 0.692809, train_r2: -1.090751, test_loss: 0.692950, test_r2: -0.679691\n",
      "[REGION 3 - EPOCHS 36]: train_loss: 0.692385, train_r2: -1.114741, test_loss: 0.692992, test_r2: -0.690633\n",
      "[REGION 3 - EPOCHS 37]: train_loss: 0.692183, train_r2: -1.052321, test_loss: 0.692852, test_r2: -0.681571\n",
      "[REGION 3 - EPOCHS 38]: train_loss: 0.692380, train_r2: -1.093231, test_loss: 0.692560, test_r2: -0.634179\n",
      "[REGION 3 - EPOCHS 39]: train_loss: 0.692389, train_r2: -1.097974, test_loss: 0.694158, test_r2: -0.644117\n",
      "[REGION 3 - EPOCHS 40]: train_loss: 0.691870, train_r2: -1.206393, test_loss: 0.693469, test_r2: -0.644169\n",
      "[REGION 3 - EPOCHS 41]: train_loss: 0.691646, train_r2: -1.110932, test_loss: 0.694701, test_r2: -0.686407\n",
      "[REGION 3 - EPOCHS 42]: train_loss: 0.691792, train_r2: -1.103214, test_loss: 0.692747, test_r2: -0.577523\n",
      "[REGION 3 - EPOCHS 43]: train_loss: 0.691653, train_r2: -1.094372, test_loss: 0.693180, test_r2: -0.647249\n",
      "[REGION 3 - EPOCHS 44]: train_loss: 0.691450, train_r2: -1.065468, test_loss: 0.692820, test_r2: -0.564980\n",
      "[REGION 3 - EPOCHS 45]: train_loss: 0.691595, train_r2: -1.149288, test_loss: 0.692548, test_r2: -0.714700\n",
      "[REGION 3 - EPOCHS 46]: train_loss: 0.691172, train_r2: -1.163361, test_loss: 0.691500, test_r2: -0.725939\n",
      "[REGION 3 - EPOCHS 47]: train_loss: 0.691237, train_r2: -1.138876, test_loss: 0.691397, test_r2: -0.661949\n",
      "[REGION 3 - EPOCHS 48]: train_loss: 0.691484, train_r2: -1.071522, test_loss: 0.692609, test_r2: -0.654954\n",
      "[REGION 3 - EPOCHS 49]: train_loss: 0.691503, train_r2: -1.107737, test_loss: 0.692353, test_r2: -0.651020\n",
      "[REGION 3 - EPOCHS 50]: train_loss: 0.691125, train_r2: -1.118418, test_loss: 0.692858, test_r2: -0.653641\n",
      "[REGION 3 - EPOCHS 51]: train_loss: 0.691033, train_r2: -1.075875, test_loss: 0.690784, test_r2: -0.696019\n",
      "[REGION 3 - EPOCHS 52]: train_loss: 0.691041, train_r2: -1.099959, test_loss: 0.690589, test_r2: -0.592068\n",
      "[REGION 3 - EPOCHS 53]: train_loss: 0.691358, train_r2: -0.992234, test_loss: 0.692234, test_r2: -0.512893\n",
      "[REGION 3 - EPOCHS 54]: train_loss: 0.691015, train_r2: -1.073883, test_loss: 0.691467, test_r2: -0.707681\n",
      "[REGION 3 - EPOCHS 55]: train_loss: 0.691073, train_r2: -1.102085, test_loss: 0.690112, test_r2: -0.625105\n",
      "[REGION 3 - EPOCHS 56]: train_loss: 0.691053, train_r2: -1.114033, test_loss: 0.691501, test_r2: -0.528262\n",
      "[REGION 3 - EPOCHS 57]: train_loss: 0.690741, train_r2: -1.173055, test_loss: 0.692467, test_r2: -0.597778\n",
      "[REGION 3 - EPOCHS 58]: train_loss: 0.691126, train_r2: -1.108776, test_loss: 0.691650, test_r2: -0.734981\n",
      "[REGION 3 - EPOCHS 59]: train_loss: 0.690960, train_r2: -1.034179, test_loss: 0.691232, test_r2: -0.798530\n",
      "[REGION 3 - EPOCHS 60]: train_loss: 0.690751, train_r2: -1.049298, test_loss: 0.689602, test_r2: -0.766424\n",
      "[REGION 3 - EPOCHS 61]: train_loss: 0.690975, train_r2: -1.156821, test_loss: 0.691923, test_r2: -0.633282\n",
      "[REGION 3 - EPOCHS 62]: train_loss: 0.690933, train_r2: -1.160062, test_loss: 0.692167, test_r2: -0.598129\n",
      "[REGION 3 - EPOCHS 63]: train_loss: 0.690935, train_r2: -1.079462, test_loss: 0.691685, test_r2: -0.642479\n",
      "[REGION 3 - EPOCHS 64]: train_loss: 0.690720, train_r2: -1.209051, test_loss: 0.690795, test_r2: -0.561063\n",
      "[REGION 3 - EPOCHS 65]: train_loss: 0.690699, train_r2: -1.035764, test_loss: 0.691441, test_r2: -0.639094\n",
      "[REGION 3 - EPOCHS 66]: train_loss: 0.691087, train_r2: -1.077377, test_loss: 0.692473, test_r2: -0.747693\n",
      "[REGION 3 - EPOCHS 67]: train_loss: 0.690965, train_r2: -1.039310, test_loss: 0.691988, test_r2: -0.610462\n",
      "[REGION 3 - EPOCHS 68]: train_loss: 0.690818, train_r2: -1.141838, test_loss: 0.692289, test_r2: -0.722022\n",
      "[REGION 3 - EPOCHS 69]: train_loss: 0.690819, train_r2: -1.046552, test_loss: 0.692022, test_r2: -0.662897\n",
      "[REGION 3 - EPOCHS 70]: train_loss: 0.690662, train_r2: -1.090794, test_loss: 0.690544, test_r2: -0.678501\n",
      "[REGION 3 - EPOCHS 71]: train_loss: 0.690653, train_r2: -1.019311, test_loss: 0.693926, test_r2: -0.616457\n",
      "[REGION 3 - EPOCHS 72]: train_loss: 0.690876, train_r2: -1.077607, test_loss: 0.690419, test_r2: -0.720113\n",
      "[REGION 3 - EPOCHS 73]: train_loss: 0.691041, train_r2: -1.073408, test_loss: 0.690407, test_r2: -0.784993\n",
      "[REGION 3 - EPOCHS 74]: train_loss: 0.690716, train_r2: -1.171553, test_loss: 0.689794, test_r2: -0.649385\n",
      "[REGION 3 - EPOCHS 75]: train_loss: 0.690453, train_r2: -1.105819, test_loss: 0.693134, test_r2: -0.694447\n",
      "[REGION 3 - EPOCHS 76]: train_loss: 0.690801, train_r2: -1.100066, test_loss: 0.691344, test_r2: -0.539098\n",
      "[REGION 3 - EPOCHS 77]: train_loss: 0.690767, train_r2: -1.098423, test_loss: 0.691454, test_r2: -0.710475\n",
      "[REGION 3 - EPOCHS 78]: train_loss: 0.690574, train_r2: -1.092338, test_loss: 0.691918, test_r2: -0.655647\n",
      "[REGION 3 - EPOCHS 79]: train_loss: 0.690694, train_r2: -1.137964, test_loss: 0.691457, test_r2: -0.589285\n",
      "[REGION 3 - EPOCHS 80]: train_loss: 0.690745, train_r2: -1.034564, test_loss: 0.692148, test_r2: -0.669819\n",
      "[REGION 3 - EPOCHS 81]: train_loss: 0.690673, train_r2: -1.091024, test_loss: 0.693048, test_r2: -0.550138\n",
      "[REGION 3 - EPOCHS 82]: train_loss: 0.690633, train_r2: -1.065834, test_loss: 0.690503, test_r2: -0.587746\n",
      "[REGION 3 - EPOCHS 83]: train_loss: 0.690837, train_r2: -1.177911, test_loss: 0.692157, test_r2: -0.687550\n",
      "[REGION 3 - EPOCHS 84]: train_loss: 0.690739, train_r2: -1.131305, test_loss: 0.690746, test_r2: -0.553168\n",
      "[REGION 3 - EPOCHS 85]: train_loss: 0.690622, train_r2: -1.121758, test_loss: 0.692780, test_r2: -0.472302\n",
      "[REGION 3 - EPOCHS 86]: train_loss: 0.690734, train_r2: -1.030321, test_loss: 0.690652, test_r2: -0.588514\n",
      "[REGION 3 - EPOCHS 87]: train_loss: 0.690576, train_r2: -1.078053, test_loss: 0.693739, test_r2: -0.619477\n",
      "[REGION 3 - EPOCHS 88]: train_loss: 0.690743, train_r2: -1.009666, test_loss: 0.690720, test_r2: -0.609884\n",
      "[REGION 3 - EPOCHS 89]: train_loss: 0.690637, train_r2: -1.075173, test_loss: 0.690905, test_r2: -0.698693\n",
      "[REGION 3 - EPOCHS 90]: train_loss: 0.690572, train_r2: -1.245260, test_loss: 0.691132, test_r2: -0.607678\n",
      "[REGION 3 - EPOCHS 91]: train_loss: 0.690656, train_r2: -1.087828, test_loss: 0.692852, test_r2: -0.756720\n",
      "[REGION 3 - EPOCHS 92]: train_loss: 0.690722, train_r2: -1.030318, test_loss: 0.691547, test_r2: -0.641965\n",
      "[REGION 3 - EPOCHS 93]: train_loss: 0.690739, train_r2: -1.155470, test_loss: 0.690700, test_r2: -0.614501\n",
      "[REGION 3 - EPOCHS 94]: train_loss: 0.691049, train_r2: -1.118855, test_loss: 0.693212, test_r2: -0.710967\n",
      "[REGION 3 - EPOCHS 95]: train_loss: 0.690675, train_r2: -1.100422, test_loss: 0.692084, test_r2: -0.795814\n",
      "[REGION 3 - EPOCHS 96]: train_loss: 0.690695, train_r2: -1.127574, test_loss: 0.691271, test_r2: -0.523786\n",
      "[REGION 3 - EPOCHS 97]: train_loss: 0.690497, train_r2: -1.081737, test_loss: 0.692289, test_r2: -0.506496\n",
      "[REGION 3 - EPOCHS 98]: train_loss: 0.690733, train_r2: -1.063101, test_loss: 0.691534, test_r2: -0.610182\n",
      "[REGION 3 - EPOCHS 99]: train_loss: 0.690603, train_r2: -1.070376, test_loss: 0.691203, test_r2: -0.660402\n",
      "[REGION 3 - EPOCHS 100]: train_loss: 0.690644, train_r2: -1.121679, test_loss: 0.692264, test_r2: -0.798759\n",
      "[REGION 3 - EPOCHS 101]: train_loss: 0.690679, train_r2: -1.064327, test_loss: 0.692531, test_r2: -0.670977\n",
      "[REGION 3 - EPOCHS 102]: train_loss: 0.690815, train_r2: -1.040910, test_loss: 0.691333, test_r2: -0.723541\n",
      "[REGION 3 - EPOCHS 103]: train_loss: 0.690727, train_r2: -1.114850, test_loss: 0.689227, test_r2: -0.725951\n",
      "[REGION 3 - EPOCHS 104]: train_loss: 0.690643, train_r2: -1.105310, test_loss: 0.691731, test_r2: -0.609765\n",
      "[REGION 3 - EPOCHS 105]: train_loss: 0.690930, train_r2: -0.912293, test_loss: 0.691242, test_r2: -0.523911\n",
      "[REGION 3 - EPOCHS 106]: train_loss: 0.690438, train_r2: -1.097009, test_loss: 0.693144, test_r2: -0.661910\n",
      "[REGION 3 - EPOCHS 107]: train_loss: 0.690655, train_r2: -1.086537, test_loss: 0.691407, test_r2: -0.540801\n",
      "[REGION 3 - EPOCHS 108]: train_loss: 0.690640, train_r2: -1.120120, test_loss: 0.692150, test_r2: -0.565003\n",
      "[REGION 3 - EPOCHS 109]: train_loss: 0.690629, train_r2: -1.095001, test_loss: 0.693123, test_r2: -0.725817\n",
      "[REGION 3 - EPOCHS 110]: train_loss: 0.690445, train_r2: -1.038620, test_loss: 0.691616, test_r2: -0.749048\n",
      "[REGION 3 - EPOCHS 111]: train_loss: 0.690779, train_r2: -1.092609, test_loss: 0.692913, test_r2: -0.613790\n",
      "[REGION 3 - EPOCHS 112]: train_loss: 0.690983, train_r2: -1.157429, test_loss: 0.689388, test_r2: -0.688720\n",
      "[REGION 3 - EPOCHS 113]: train_loss: 0.690823, train_r2: -1.144737, test_loss: 0.692347, test_r2: -0.731929\n",
      "[REGION 3 - EPOCHS 114]: train_loss: 0.690709, train_r2: -1.082720, test_loss: 0.690721, test_r2: -0.703158\n",
      "[REGION 3 - EPOCHS 115]: train_loss: 0.690589, train_r2: -1.024351, test_loss: 0.691565, test_r2: -0.793537\n",
      "[REGION 3 - EPOCHS 116]: train_loss: 0.690588, train_r2: -1.034626, test_loss: 0.689671, test_r2: -0.746129\n",
      "[REGION 3 - EPOCHS 117]: train_loss: 0.690703, train_r2: -1.047144, test_loss: 0.691941, test_r2: -0.588691\n",
      "[REGION 3 - EPOCHS 118]: train_loss: 0.690738, train_r2: -1.068357, test_loss: 0.692115, test_r2: -0.640371\n",
      "[REGION 3 - EPOCHS 119]: train_loss: 0.690566, train_r2: -1.080161, test_loss: 0.691343, test_r2: -0.638251\n",
      "[REGION 3 - EPOCHS 120]: train_loss: 0.690646, train_r2: -1.072814, test_loss: 0.692339, test_r2: -0.752579\n",
      "[REGION 3 - EPOCHS 121]: train_loss: 0.690781, train_r2: -1.109894, test_loss: 0.690079, test_r2: -0.609188\n",
      "[REGION 3 - EPOCHS 122]: train_loss: 0.690469, train_r2: -1.066392, test_loss: 0.689898, test_r2: -0.614177\n",
      "[REGION 3 - EPOCHS 123]: train_loss: 0.690608, train_r2: -1.094372, test_loss: 0.692292, test_r2: -0.707694\n",
      "[REGION 3 - EPOCHS 124]: train_loss: 0.690631, train_r2: -1.162576, test_loss: 0.690028, test_r2: -0.592689\n",
      "[REGION 3 - EPOCHS 125]: train_loss: 0.690691, train_r2: -1.150866, test_loss: 0.691299, test_r2: -0.764688\n",
      "[REGION 3 - EPOCHS 126]: train_loss: 0.690716, train_r2: -1.015642, test_loss: 0.691410, test_r2: -0.651062\n",
      "[REGION 3 - EPOCHS 127]: train_loss: 0.690740, train_r2: -1.087396, test_loss: 0.690145, test_r2: -0.715643\n",
      "[REGION 3 - EPOCHS 128]: train_loss: 0.690864, train_r2: -1.015241, test_loss: 0.692677, test_r2: -0.715532\n",
      "[REGION 3 - EPOCHS 129]: train_loss: 0.690895, train_r2: -1.076949, test_loss: 0.692844, test_r2: -0.598354\n",
      "[REGION 3 - EPOCHS 130]: train_loss: 0.690827, train_r2: -1.111282, test_loss: 0.690237, test_r2: -0.678978\n",
      "[REGION 3 - EPOCHS 131]: train_loss: 0.690608, train_r2: -1.060135, test_loss: 0.691489, test_r2: -0.649804\n",
      "[REGION 3 - EPOCHS 132]: train_loss: 0.691013, train_r2: -1.141857, test_loss: 0.690717, test_r2: -0.557744\n",
      "[REGION 3 - EPOCHS 133]: train_loss: 0.690532, train_r2: -1.120578, test_loss: 0.689485, test_r2: -0.700382\n",
      "[REGION 3 - EPOCHS 134]: train_loss: 0.690917, train_r2: -1.068280, test_loss: 0.691331, test_r2: -0.768706\n",
      "[REGION 3 - EPOCHS 135]: train_loss: 0.690466, train_r2: -1.189889, test_loss: 0.691929, test_r2: -0.698891\n",
      "[REGION 3 - EPOCHS 136]: train_loss: 0.690628, train_r2: -1.206294, test_loss: 0.692457, test_r2: -0.571649\n",
      "[REGION 3 - EPOCHS 137]: train_loss: 0.690721, train_r2: -1.197265, test_loss: 0.692882, test_r2: -0.578386\n",
      "[REGION 3 - EPOCHS 138]: train_loss: 0.690745, train_r2: -0.996212, test_loss: 0.690010, test_r2: -0.611864\n",
      "[REGION 3 - EPOCHS 139]: train_loss: 0.690458, train_r2: -1.135046, test_loss: 0.691339, test_r2: -0.580746\n",
      "[REGION 3 - EPOCHS 140]: train_loss: 0.690991, train_r2: -1.146131, test_loss: 0.689512, test_r2: -0.614891\n",
      "[REGION 3 - EPOCHS 141]: train_loss: 0.690655, train_r2: -1.124222, test_loss: 0.693343, test_r2: -0.613857\n",
      "[REGION 3 - EPOCHS 142]: train_loss: 0.690743, train_r2: -1.086071, test_loss: 0.691319, test_r2: -0.644890\n",
      "[REGION 3 - EPOCHS 143]: train_loss: 0.690591, train_r2: -1.088034, test_loss: 0.691005, test_r2: -0.761322\n",
      "[REGION 3 - EPOCHS 144]: train_loss: 0.690754, train_r2: -1.035427, test_loss: 0.691665, test_r2: -0.622340\n",
      "[REGION 3 - EPOCHS 145]: train_loss: 0.690538, train_r2: -1.036209, test_loss: 0.691829, test_r2: -0.493091\n",
      "[REGION 3 - EPOCHS 146]: train_loss: 0.690856, train_r2: -1.077954, test_loss: 0.691268, test_r2: -0.690634\n",
      "[REGION 3 - EPOCHS 147]: train_loss: 0.690452, train_r2: -1.047487, test_loss: 0.693149, test_r2: -0.495713\n",
      "[REGION 3 - EPOCHS 148]: train_loss: 0.690642, train_r2: -1.135823, test_loss: 0.692037, test_r2: -0.607662\n",
      "[REGION 3 - EPOCHS 149]: train_loss: 0.690626, train_r2: -1.035878, test_loss: 0.689513, test_r2: -0.784708\n",
      "[REGION 3 - EPOCHS 150]: train_loss: 0.690852, train_r2: -1.043257, test_loss: 0.689483, test_r2: -0.516348\n",
      "[REGION 3 - EPOCHS 151]: train_loss: 0.690585, train_r2: -1.068688, test_loss: 0.691604, test_r2: -0.709157\n",
      "[REGION 3 - EPOCHS 152]: train_loss: 0.690801, train_r2: -1.055064, test_loss: 0.692200, test_r2: -0.698698\n",
      "[REGION 3 - EPOCHS 153]: train_loss: 0.690972, train_r2: -1.088110, test_loss: 0.689400, test_r2: -0.624272\n",
      "[REGION 3 - EPOCHS 154]: train_loss: 0.691041, train_r2: -1.203748, test_loss: 0.690850, test_r2: -0.689729\n",
      "[REGION 3 - EPOCHS 155]: train_loss: 0.690597, train_r2: -1.093642, test_loss: 0.690980, test_r2: -0.560182\n",
      "[REGION 3 - EPOCHS 156]: train_loss: 0.690765, train_r2: -1.193393, test_loss: 0.690485, test_r2: -0.612233\n",
      "[REGION 3 - EPOCHS 157]: train_loss: 0.690788, train_r2: -1.131470, test_loss: 0.692388, test_r2: -0.717519\n",
      "[REGION 3 - EPOCHS 158]: train_loss: 0.691187, train_r2: -1.088932, test_loss: 0.691867, test_r2: -0.627552\n",
      "[REGION 3 - EPOCHS 159]: train_loss: 0.690654, train_r2: -1.051352, test_loss: 0.691048, test_r2: -0.676308\n",
      "[REGION 3 - EPOCHS 160]: train_loss: 0.690555, train_r2: -1.071277, test_loss: 0.692921, test_r2: -0.539468\n",
      "[REGION 3 - EPOCHS 161]: train_loss: 0.690834, train_r2: -1.218937, test_loss: 0.691466, test_r2: -0.760183\n",
      "[REGION 3 - EPOCHS 162]: train_loss: 0.690814, train_r2: -1.106851, test_loss: 0.690773, test_r2: -0.589520\n",
      "[REGION 3 - EPOCHS 163]: train_loss: 0.690786, train_r2: -0.997885, test_loss: 0.691112, test_r2: -0.734128\n",
      "[REGION 3 - EPOCHS 164]: train_loss: 0.691104, train_r2: -1.133169, test_loss: 0.691359, test_r2: -0.559220\n",
      "[REGION 3 - EPOCHS 165]: train_loss: 0.690729, train_r2: -1.099391, test_loss: 0.692033, test_r2: -0.568685\n",
      "[REGION 3 - EPOCHS 166]: train_loss: 0.690645, train_r2: -1.130867, test_loss: 0.691844, test_r2: -0.578345\n",
      "[REGION 3 - EPOCHS 167]: train_loss: 0.690637, train_r2: -1.067139, test_loss: 0.690883, test_r2: -0.695067\n",
      "[REGION 3 - EPOCHS 168]: train_loss: 0.690484, train_r2: -0.998718, test_loss: 0.690015, test_r2: -0.527834\n",
      "[REGION 3 - EPOCHS 169]: train_loss: 0.690535, train_r2: -1.144198, test_loss: 0.693091, test_r2: -0.768244\n",
      "[REGION 3 - EPOCHS 170]: train_loss: 0.690843, train_r2: -1.027235, test_loss: 0.693466, test_r2: -0.682632\n",
      "[REGION 3 - EPOCHS 171]: train_loss: 0.690660, train_r2: -1.076740, test_loss: 0.690746, test_r2: -0.796558\n",
      "[REGION 3 - EPOCHS 172]: train_loss: 0.690810, train_r2: -1.078797, test_loss: 0.691145, test_r2: -0.587152\n",
      "[REGION 3 - EPOCHS 173]: train_loss: 0.690863, train_r2: -1.056382, test_loss: 0.691921, test_r2: -0.541979\n",
      "[REGION 3 - EPOCHS 174]: train_loss: 0.690871, train_r2: -1.136289, test_loss: 0.693033, test_r2: -0.647938\n",
      "[REGION 3 - EPOCHS 175]: train_loss: 0.690825, train_r2: -1.123066, test_loss: 0.692040, test_r2: -0.734101\n",
      "[REGION 3 - EPOCHS 176]: train_loss: 0.690420, train_r2: -1.081250, test_loss: 0.690568, test_r2: -0.562029\n",
      "[REGION 3 - EPOCHS 177]: train_loss: 0.690677, train_r2: -1.138509, test_loss: 0.689954, test_r2: -0.680921\n",
      "[REGION 3 - EPOCHS 178]: train_loss: 0.690663, train_r2: -1.162668, test_loss: 0.690554, test_r2: -0.666525\n",
      "[REGION 3 - EPOCHS 179]: train_loss: 0.690635, train_r2: -1.073431, test_loss: 0.691361, test_r2: -0.672520\n",
      "[REGION 3 - EPOCHS 180]: train_loss: 0.690673, train_r2: -1.155312, test_loss: 0.692202, test_r2: -0.570317\n",
      "[REGION 3 - EPOCHS 181]: train_loss: 0.690761, train_r2: -1.071336, test_loss: 0.693455, test_r2: -0.582973\n",
      "[REGION 3 - EPOCHS 182]: train_loss: 0.690728, train_r2: -0.986762, test_loss: 0.689792, test_r2: -0.683673\n",
      "[REGION 3 - EPOCHS 183]: train_loss: 0.690858, train_r2: -1.060763, test_loss: 0.691279, test_r2: -0.625290\n",
      "[REGION 3 - EPOCHS 184]: train_loss: 0.690799, train_r2: -1.097431, test_loss: 0.691597, test_r2: -0.621525\n",
      "[REGION 3 - EPOCHS 185]: train_loss: 0.690751, train_r2: -1.082131, test_loss: 0.690098, test_r2: -0.590149\n",
      "[REGION 3 - EPOCHS 186]: train_loss: 0.690878, train_r2: -1.114928, test_loss: 0.690854, test_r2: -0.613944\n",
      "[REGION 3 - EPOCHS 187]: train_loss: 0.690562, train_r2: -1.151049, test_loss: 0.691780, test_r2: -0.648556\n",
      "[REGION 3 - EPOCHS 188]: train_loss: 0.690415, train_r2: -1.069326, test_loss: 0.690905, test_r2: -0.679761\n",
      "[REGION 3 - EPOCHS 189]: train_loss: 0.690750, train_r2: -1.066340, test_loss: 0.693122, test_r2: -0.705194\n",
      "[REGION 3 - EPOCHS 190]: train_loss: 0.690609, train_r2: -0.998143, test_loss: 0.689554, test_r2: -0.558049\n",
      "[REGION 3 - EPOCHS 191]: train_loss: 0.690732, train_r2: -1.106933, test_loss: 0.689909, test_r2: -0.642147\n",
      "[REGION 3 - EPOCHS 192]: train_loss: 0.690469, train_r2: -1.115319, test_loss: 0.690184, test_r2: -0.552375\n",
      "[REGION 3 - EPOCHS 193]: train_loss: 0.690749, train_r2: -1.070663, test_loss: 0.691069, test_r2: -0.811960\n",
      "[REGION 3 - EPOCHS 194]: train_loss: 0.690738, train_r2: -1.072306, test_loss: 0.693112, test_r2: -0.739488\n",
      "[REGION 3 - EPOCHS 195]: train_loss: 0.690855, train_r2: -1.207308, test_loss: 0.690316, test_r2: -0.538086\n",
      "[REGION 3 - EPOCHS 196]: train_loss: 0.690775, train_r2: -1.119370, test_loss: 0.690635, test_r2: -0.629148\n",
      "[REGION 3 - EPOCHS 197]: train_loss: 0.690847, train_r2: -1.113022, test_loss: 0.691399, test_r2: -0.575176\n",
      "[REGION 3 - EPOCHS 198]: train_loss: 0.690618, train_r2: -1.151601, test_loss: 0.691609, test_r2: -0.495035\n",
      "[REGION 3 - EPOCHS 199]: train_loss: 0.690625, train_r2: -1.139347, test_loss: 0.692742, test_r2: -0.642749\n",
      "[REGION 3 - EPOCHS 200]: train_loss: 0.690422, train_r2: -1.096935, test_loss: 0.690479, test_r2: -0.622981\n",
      "Best model at epochs 85 with R2 score: -0.4723019674769675\n",
      "----------Training Region 4----------\n",
      "[DATASET]: (248, 233, 2) (248, 923) (923,)\n",
      "[Train - Test]: 198 50\n",
      "You're using GPU Tesla T4 to impute genotype\n",
      "Number of learnable parameters: 9230\n",
      "[REGION 4 - EPOCHS 1]: train_loss: 0.749143, train_r2: -1.319404, test_loss: 0.747940, test_r2: -1.008581\n",
      "[REGION 4 - EPOCHS 2]: train_loss: 0.745714, train_r2: -1.296469, test_loss: 0.744725, test_r2: -0.818783\n",
      "[REGION 4 - EPOCHS 3]: train_loss: 0.742852, train_r2: -1.248299, test_loss: 0.742344, test_r2: -0.932476\n",
      "[REGION 4 - EPOCHS 4]: train_loss: 0.739605, train_r2: -1.332046, test_loss: 0.738225, test_r2: -0.912083\n",
      "[REGION 4 - EPOCHS 5]: train_loss: 0.736532, train_r2: -1.229755, test_loss: 0.734792, test_r2: -0.805300\n",
      "[REGION 4 - EPOCHS 6]: train_loss: 0.733310, train_r2: -1.196384, test_loss: 0.734695, test_r2: -0.825292\n",
      "[REGION 4 - EPOCHS 7]: train_loss: 0.730867, train_r2: -1.334068, test_loss: 0.730754, test_r2: -0.814514\n",
      "[REGION 4 - EPOCHS 8]: train_loss: 0.727482, train_r2: -1.214792, test_loss: 0.727329, test_r2: -0.735286\n",
      "[REGION 4 - EPOCHS 9]: train_loss: 0.725771, train_r2: -1.234038, test_loss: 0.729107, test_r2: -0.762562\n",
      "[REGION 4 - EPOCHS 10]: train_loss: 0.723927, train_r2: -1.213780, test_loss: 0.727704, test_r2: -0.971831\n",
      "[REGION 4 - EPOCHS 11]: train_loss: 0.722728, train_r2: -1.225552, test_loss: 0.723913, test_r2: -0.928043\n",
      "[REGION 4 - EPOCHS 12]: train_loss: 0.720835, train_r2: -1.090562, test_loss: 0.721083, test_r2: -0.900164\n",
      "[REGION 4 - EPOCHS 13]: train_loss: 0.719461, train_r2: -1.239293, test_loss: 0.720162, test_r2: -0.840526\n",
      "[REGION 4 - EPOCHS 14]: train_loss: 0.718150, train_r2: -1.206508, test_loss: 0.719487, test_r2: -0.943573\n",
      "[REGION 4 - EPOCHS 15]: train_loss: 0.716544, train_r2: -1.126464, test_loss: 0.720700, test_r2: -0.855869\n",
      "[REGION 4 - EPOCHS 16]: train_loss: 0.715527, train_r2: -1.235411, test_loss: 0.716102, test_r2: -0.875026\n",
      "[REGION 4 - EPOCHS 17]: train_loss: 0.714667, train_r2: -1.128387, test_loss: 0.713975, test_r2: -0.792292\n",
      "[REGION 4 - EPOCHS 18]: train_loss: 0.713805, train_r2: -1.170399, test_loss: 0.716120, test_r2: -0.834909\n",
      "[REGION 4 - EPOCHS 19]: train_loss: 0.713317, train_r2: -1.109135, test_loss: 0.714486, test_r2: -0.912406\n",
      "[REGION 4 - EPOCHS 20]: train_loss: 0.712040, train_r2: -1.113354, test_loss: 0.715057, test_r2: -0.803969\n",
      "[REGION 4 - EPOCHS 21]: train_loss: 0.711804, train_r2: -1.136833, test_loss: 0.714547, test_r2: -0.825648\n",
      "[REGION 4 - EPOCHS 22]: train_loss: 0.710628, train_r2: -1.265344, test_loss: 0.714236, test_r2: -0.894737\n",
      "[REGION 4 - EPOCHS 23]: train_loss: 0.710111, train_r2: -1.206682, test_loss: 0.713264, test_r2: -0.862158\n",
      "[REGION 4 - EPOCHS 24]: train_loss: 0.709467, train_r2: -1.291818, test_loss: 0.711602, test_r2: -0.872349\n",
      "[REGION 4 - EPOCHS 25]: train_loss: 0.709147, train_r2: -1.110196, test_loss: 0.710638, test_r2: -0.750662\n",
      "[REGION 4 - EPOCHS 26]: train_loss: 0.708634, train_r2: -1.094626, test_loss: 0.710989, test_r2: -0.876396\n",
      "[REGION 4 - EPOCHS 27]: train_loss: 0.708301, train_r2: -1.044243, test_loss: 0.713904, test_r2: -0.845232\n",
      "[REGION 4 - EPOCHS 28]: train_loss: 0.707787, train_r2: -1.071591, test_loss: 0.709689, test_r2: -0.847677\n",
      "[REGION 4 - EPOCHS 29]: train_loss: 0.707479, train_r2: -1.085615, test_loss: 0.711726, test_r2: -0.778421\n",
      "[REGION 4 - EPOCHS 30]: train_loss: 0.707345, train_r2: -1.163034, test_loss: 0.707314, test_r2: -0.834897\n",
      "[REGION 4 - EPOCHS 31]: train_loss: 0.706752, train_r2: -1.093128, test_loss: 0.707444, test_r2: -0.955176\n",
      "[REGION 4 - EPOCHS 32]: train_loss: 0.706733, train_r2: -1.202318, test_loss: 0.707243, test_r2: -0.788124\n",
      "[REGION 4 - EPOCHS 33]: train_loss: 0.706628, train_r2: -1.159158, test_loss: 0.707294, test_r2: -0.792319\n",
      "[REGION 4 - EPOCHS 34]: train_loss: 0.706040, train_r2: -1.185074, test_loss: 0.709919, test_r2: -0.884883\n",
      "[REGION 4 - EPOCHS 35]: train_loss: 0.705854, train_r2: -1.119322, test_loss: 0.708438, test_r2: -0.719485\n",
      "[REGION 4 - EPOCHS 36]: train_loss: 0.705866, train_r2: -1.209538, test_loss: 0.709018, test_r2: -0.949830\n",
      "[REGION 4 - EPOCHS 37]: train_loss: 0.705767, train_r2: -1.210070, test_loss: 0.707518, test_r2: -0.771455\n",
      "[REGION 4 - EPOCHS 38]: train_loss: 0.705386, train_r2: -1.104488, test_loss: 0.707450, test_r2: -0.795278\n",
      "[REGION 4 - EPOCHS 39]: train_loss: 0.705279, train_r2: -1.156678, test_loss: 0.707786, test_r2: -0.770040\n",
      "[REGION 4 - EPOCHS 40]: train_loss: 0.705369, train_r2: -1.079415, test_loss: 0.706630, test_r2: -0.855743\n",
      "[REGION 4 - EPOCHS 41]: train_loss: 0.705709, train_r2: -1.127641, test_loss: 0.706418, test_r2: -0.732962\n",
      "[REGION 4 - EPOCHS 42]: train_loss: 0.705310, train_r2: -1.183682, test_loss: 0.708141, test_r2: -0.891165\n",
      "[REGION 4 - EPOCHS 43]: train_loss: 0.705149, train_r2: -1.165969, test_loss: 0.707271, test_r2: -0.767318\n",
      "[REGION 4 - EPOCHS 44]: train_loss: 0.704926, train_r2: -1.232395, test_loss: 0.708599, test_r2: -0.701513\n",
      "[REGION 4 - EPOCHS 45]: train_loss: 0.705075, train_r2: -1.091217, test_loss: 0.705741, test_r2: -0.885996\n",
      "[REGION 4 - EPOCHS 46]: train_loss: 0.704728, train_r2: -1.082103, test_loss: 0.707203, test_r2: -0.470462\n",
      "[REGION 4 - EPOCHS 47]: train_loss: 0.704905, train_r2: -1.193407, test_loss: 0.706628, test_r2: -0.770610\n",
      "[REGION 4 - EPOCHS 48]: train_loss: 0.704680, train_r2: -1.168439, test_loss: 0.709544, test_r2: -0.907241\n",
      "[REGION 4 - EPOCHS 49]: train_loss: 0.704846, train_r2: -1.171294, test_loss: 0.708107, test_r2: -0.847820\n",
      "[REGION 4 - EPOCHS 50]: train_loss: 0.704802, train_r2: -1.055848, test_loss: 0.707496, test_r2: -0.845249\n",
      "[REGION 4 - EPOCHS 51]: train_loss: 0.704360, train_r2: -1.020678, test_loss: 0.707063, test_r2: -0.897469\n",
      "[REGION 4 - EPOCHS 52]: train_loss: 0.704615, train_r2: -1.160843, test_loss: 0.705383, test_r2: -0.823138\n",
      "[REGION 4 - EPOCHS 53]: train_loss: 0.704410, train_r2: -1.128315, test_loss: 0.706506, test_r2: -0.813238\n",
      "[REGION 4 - EPOCHS 54]: train_loss: 0.704320, train_r2: -1.064875, test_loss: 0.706168, test_r2: -0.846496\n",
      "[REGION 4 - EPOCHS 55]: train_loss: 0.704492, train_r2: -1.178682, test_loss: 0.707405, test_r2: -0.856623\n",
      "[REGION 4 - EPOCHS 56]: train_loss: 0.704230, train_r2: -1.180170, test_loss: 0.707589, test_r2: -0.772619\n",
      "[REGION 4 - EPOCHS 57]: train_loss: 0.704198, train_r2: -1.162796, test_loss: 0.706307, test_r2: -0.894751\n",
      "[REGION 4 - EPOCHS 58]: train_loss: 0.704125, train_r2: -1.158304, test_loss: 0.706699, test_r2: -0.678527\n",
      "[REGION 4 - EPOCHS 59]: train_loss: 0.704403, train_r2: -1.118310, test_loss: 0.706929, test_r2: -0.901214\n",
      "[REGION 4 - EPOCHS 60]: train_loss: 0.704409, train_r2: -1.127056, test_loss: 0.705171, test_r2: -0.824857\n",
      "[REGION 4 - EPOCHS 61]: train_loss: 0.704345, train_r2: -1.120044, test_loss: 0.706049, test_r2: -0.846187\n",
      "[REGION 4 - EPOCHS 62]: train_loss: 0.704147, train_r2: -1.023069, test_loss: 0.705478, test_r2: -0.834942\n",
      "[REGION 4 - EPOCHS 63]: train_loss: 0.703992, train_r2: -1.086829, test_loss: 0.705835, test_r2: -0.807007\n",
      "[REGION 4 - EPOCHS 64]: train_loss: 0.704189, train_r2: -1.169474, test_loss: 0.704437, test_r2: -0.738380\n",
      "[REGION 4 - EPOCHS 65]: train_loss: 0.704002, train_r2: -1.140420, test_loss: 0.708057, test_r2: -0.830945\n",
      "[REGION 4 - EPOCHS 66]: train_loss: 0.704010, train_r2: -1.153478, test_loss: 0.707062, test_r2: -0.883005\n",
      "[REGION 4 - EPOCHS 67]: train_loss: 0.703767, train_r2: -1.115057, test_loss: 0.706400, test_r2: -0.763069\n",
      "[REGION 4 - EPOCHS 68]: train_loss: 0.703946, train_r2: -1.119208, test_loss: 0.706105, test_r2: -0.808064\n",
      "[REGION 4 - EPOCHS 69]: train_loss: 0.704324, train_r2: -1.067480, test_loss: 0.707328, test_r2: -0.972992\n",
      "[REGION 4 - EPOCHS 70]: train_loss: 0.704089, train_r2: -1.110321, test_loss: 0.708833, test_r2: -0.853444\n",
      "[REGION 4 - EPOCHS 71]: train_loss: 0.704203, train_r2: -1.204542, test_loss: 0.706961, test_r2: -0.914951\n",
      "[REGION 4 - EPOCHS 72]: train_loss: 0.704184, train_r2: -1.137403, test_loss: 0.706483, test_r2: -0.979991\n",
      "[REGION 4 - EPOCHS 73]: train_loss: 0.704012, train_r2: -1.088892, test_loss: 0.706622, test_r2: -0.724531\n",
      "[REGION 4 - EPOCHS 74]: train_loss: 0.704063, train_r2: -1.138123, test_loss: 0.704876, test_r2: -0.830870\n",
      "[REGION 4 - EPOCHS 75]: train_loss: 0.704189, train_r2: -1.189564, test_loss: 0.704897, test_r2: -0.925524\n",
      "[REGION 4 - EPOCHS 76]: train_loss: 0.704089, train_r2: -1.077681, test_loss: 0.707790, test_r2: -0.958798\n",
      "[REGION 4 - EPOCHS 77]: train_loss: 0.704217, train_r2: -1.108159, test_loss: 0.706114, test_r2: -0.648933\n",
      "[REGION 4 - EPOCHS 78]: train_loss: 0.704120, train_r2: -1.142759, test_loss: 0.706207, test_r2: -0.843862\n",
      "[REGION 4 - EPOCHS 79]: train_loss: 0.704027, train_r2: -1.102465, test_loss: 0.708100, test_r2: -0.861821\n",
      "[REGION 4 - EPOCHS 80]: train_loss: 0.704013, train_r2: -1.238137, test_loss: 0.706911, test_r2: -0.771790\n",
      "[REGION 4 - EPOCHS 81]: train_loss: 0.703880, train_r2: -1.073759, test_loss: 0.704714, test_r2: -0.798653\n",
      "[REGION 4 - EPOCHS 82]: train_loss: 0.704251, train_r2: -1.080492, test_loss: 0.704378, test_r2: -0.929945\n",
      "[REGION 4 - EPOCHS 83]: train_loss: 0.704594, train_r2: -1.070113, test_loss: 0.708654, test_r2: -0.758289\n",
      "[REGION 4 - EPOCHS 84]: train_loss: 0.704107, train_r2: -1.171267, test_loss: 0.705549, test_r2: -0.894862\n",
      "[REGION 4 - EPOCHS 85]: train_loss: 0.704222, train_r2: -1.093036, test_loss: 0.705621, test_r2: -0.904957\n",
      "[REGION 4 - EPOCHS 86]: train_loss: 0.704018, train_r2: -1.072677, test_loss: 0.705325, test_r2: -0.774150\n",
      "[REGION 4 - EPOCHS 87]: train_loss: 0.703854, train_r2: -1.103184, test_loss: 0.704461, test_r2: -0.760310\n",
      "[REGION 4 - EPOCHS 88]: train_loss: 0.703784, train_r2: -1.101793, test_loss: 0.707807, test_r2: -0.797679\n",
      "[REGION 4 - EPOCHS 89]: train_loss: 0.703912, train_r2: -1.056070, test_loss: 0.709202, test_r2: -0.794135\n",
      "[REGION 4 - EPOCHS 90]: train_loss: 0.704267, train_r2: -1.087792, test_loss: 0.705555, test_r2: -0.861681\n",
      "[REGION 4 - EPOCHS 91]: train_loss: 0.704465, train_r2: -1.133350, test_loss: 0.707037, test_r2: -0.800818\n",
      "[REGION 4 - EPOCHS 92]: train_loss: 0.704122, train_r2: -1.108961, test_loss: 0.706884, test_r2: -0.746810\n",
      "[REGION 4 - EPOCHS 93]: train_loss: 0.704005, train_r2: -1.251311, test_loss: 0.704752, test_r2: -0.839033\n",
      "[REGION 4 - EPOCHS 94]: train_loss: 0.704148, train_r2: -1.164103, test_loss: 0.705174, test_r2: -0.927041\n",
      "[REGION 4 - EPOCHS 95]: train_loss: 0.703976, train_r2: -1.095201, test_loss: 0.707357, test_r2: -0.843262\n",
      "[REGION 4 - EPOCHS 96]: train_loss: 0.704001, train_r2: -1.073236, test_loss: 0.707855, test_r2: -0.770554\n",
      "[REGION 4 - EPOCHS 97]: train_loss: 0.703713, train_r2: -1.076590, test_loss: 0.709810, test_r2: -0.816890\n",
      "[REGION 4 - EPOCHS 98]: train_loss: 0.704140, train_r2: -1.255552, test_loss: 0.706237, test_r2: -0.973165\n",
      "[REGION 4 - EPOCHS 99]: train_loss: 0.704277, train_r2: -1.113643, test_loss: 0.706852, test_r2: -0.879235\n",
      "[REGION 4 - EPOCHS 100]: train_loss: 0.703869, train_r2: -1.106526, test_loss: 0.704684, test_r2: -0.889632\n",
      "[REGION 4 - EPOCHS 101]: train_loss: 0.703999, train_r2: -1.089019, test_loss: 0.705340, test_r2: -0.793616\n",
      "[REGION 4 - EPOCHS 102]: train_loss: 0.703610, train_r2: -1.189337, test_loss: 0.705903, test_r2: -0.862885\n",
      "[REGION 4 - EPOCHS 103]: train_loss: 0.704224, train_r2: -1.079195, test_loss: 0.705296, test_r2: -0.841974\n",
      "[REGION 4 - EPOCHS 104]: train_loss: 0.703836, train_r2: -1.132249, test_loss: 0.709530, test_r2: -0.773268\n",
      "[REGION 4 - EPOCHS 105]: train_loss: 0.704017, train_r2: -1.140358, test_loss: 0.707669, test_r2: -0.862566\n",
      "[REGION 4 - EPOCHS 106]: train_loss: 0.703973, train_r2: -1.102114, test_loss: 0.706975, test_r2: -0.886545\n",
      "[REGION 4 - EPOCHS 107]: train_loss: 0.703698, train_r2: -1.082787, test_loss: 0.706095, test_r2: -0.770382\n",
      "[REGION 4 - EPOCHS 108]: train_loss: 0.704189, train_r2: -1.180537, test_loss: 0.704826, test_r2: -0.867440\n",
      "[REGION 4 - EPOCHS 109]: train_loss: 0.703915, train_r2: -1.089960, test_loss: 0.709256, test_r2: -0.848581\n",
      "[REGION 4 - EPOCHS 110]: train_loss: 0.703941, train_r2: -1.125257, test_loss: 0.708218, test_r2: -0.888074\n",
      "[REGION 4 - EPOCHS 111]: train_loss: 0.704023, train_r2: -1.063279, test_loss: 0.705732, test_r2: -0.951080\n",
      "[REGION 4 - EPOCHS 112]: train_loss: 0.703983, train_r2: -1.104324, test_loss: 0.706466, test_r2: -0.896552\n",
      "[REGION 4 - EPOCHS 113]: train_loss: 0.703744, train_r2: -1.031759, test_loss: 0.704443, test_r2: -0.773621\n",
      "[REGION 4 - EPOCHS 114]: train_loss: 0.704339, train_r2: -1.169577, test_loss: 0.709122, test_r2: -0.681005\n",
      "[REGION 4 - EPOCHS 115]: train_loss: 0.703943, train_r2: -1.062576, test_loss: 0.704835, test_r2: -0.800005\n",
      "[REGION 4 - EPOCHS 116]: train_loss: 0.704379, train_r2: -1.161756, test_loss: 0.709919, test_r2: -0.803151\n",
      "[REGION 4 - EPOCHS 117]: train_loss: 0.704333, train_r2: -1.108897, test_loss: 0.705645, test_r2: -0.786743\n",
      "[REGION 4 - EPOCHS 118]: train_loss: 0.704018, train_r2: -1.212529, test_loss: 0.708510, test_r2: -0.796249\n",
      "[REGION 4 - EPOCHS 119]: train_loss: 0.704147, train_r2: -1.112109, test_loss: 0.704804, test_r2: -0.819204\n",
      "[REGION 4 - EPOCHS 120]: train_loss: 0.704125, train_r2: -1.137344, test_loss: 0.706254, test_r2: -0.927369\n",
      "[REGION 4 - EPOCHS 121]: train_loss: 0.703841, train_r2: -1.128702, test_loss: 0.706457, test_r2: -0.903950\n",
      "[REGION 4 - EPOCHS 122]: train_loss: 0.703895, train_r2: -1.095534, test_loss: 0.707683, test_r2: -0.808192\n",
      "[REGION 4 - EPOCHS 123]: train_loss: 0.703961, train_r2: -1.241856, test_loss: 0.707762, test_r2: -0.863032\n",
      "[REGION 4 - EPOCHS 124]: train_loss: 0.704228, train_r2: -1.032579, test_loss: 0.705772, test_r2: -0.831293\n",
      "[REGION 4 - EPOCHS 125]: train_loss: 0.704013, train_r2: -1.091520, test_loss: 0.707088, test_r2: -0.817886\n",
      "[REGION 4 - EPOCHS 126]: train_loss: 0.704043, train_r2: -1.091695, test_loss: 0.705271, test_r2: -0.709110\n",
      "[REGION 4 - EPOCHS 127]: train_loss: 0.703910, train_r2: -1.110963, test_loss: 0.705436, test_r2: -0.889789\n",
      "[REGION 4 - EPOCHS 128]: train_loss: 0.703907, train_r2: -1.178119, test_loss: 0.705872, test_r2: -0.876046\n",
      "[REGION 4 - EPOCHS 129]: train_loss: 0.704301, train_r2: -1.199537, test_loss: 0.706264, test_r2: -0.769265\n",
      "[REGION 4 - EPOCHS 130]: train_loss: 0.704018, train_r2: -1.101891, test_loss: 0.705402, test_r2: -0.781789\n",
      "[REGION 4 - EPOCHS 131]: train_loss: 0.704077, train_r2: -1.125189, test_loss: 0.707744, test_r2: -0.788978\n",
      "[REGION 4 - EPOCHS 132]: train_loss: 0.704075, train_r2: -1.165359, test_loss: 0.705053, test_r2: -0.912385\n",
      "[REGION 4 - EPOCHS 133]: train_loss: 0.704001, train_r2: -1.120464, test_loss: 0.705856, test_r2: -0.898991\n",
      "[REGION 4 - EPOCHS 134]: train_loss: 0.704057, train_r2: -1.156971, test_loss: 0.704943, test_r2: -0.899879\n",
      "[REGION 4 - EPOCHS 135]: train_loss: 0.703730, train_r2: -1.120320, test_loss: 0.704938, test_r2: -0.807400\n",
      "[REGION 4 - EPOCHS 136]: train_loss: 0.704322, train_r2: -1.081140, test_loss: 0.704692, test_r2: -0.910728\n",
      "[REGION 4 - EPOCHS 137]: train_loss: 0.704018, train_r2: -1.174295, test_loss: 0.707368, test_r2: -0.938897\n",
      "[REGION 4 - EPOCHS 138]: train_loss: 0.704059, train_r2: -1.149073, test_loss: 0.707962, test_r2: -0.968115\n",
      "[REGION 4 - EPOCHS 139]: train_loss: 0.704304, train_r2: -1.105527, test_loss: 0.707109, test_r2: -0.860817\n",
      "[REGION 4 - EPOCHS 140]: train_loss: 0.703630, train_r2: -1.086071, test_loss: 0.706892, test_r2: -0.849253\n",
      "[REGION 4 - EPOCHS 141]: train_loss: 0.704020, train_r2: -1.155141, test_loss: 0.705589, test_r2: -0.820548\n",
      "[REGION 4 - EPOCHS 142]: train_loss: 0.703661, train_r2: -1.082458, test_loss: 0.704519, test_r2: -0.786828\n",
      "[REGION 4 - EPOCHS 143]: train_loss: 0.703855, train_r2: -1.099745, test_loss: 0.706381, test_r2: -0.780934\n",
      "[REGION 4 - EPOCHS 144]: train_loss: 0.704258, train_r2: -1.167627, test_loss: 0.708608, test_r2: -0.830140\n",
      "[REGION 4 - EPOCHS 145]: train_loss: 0.704237, train_r2: -1.109028, test_loss: 0.704844, test_r2: -0.783164\n",
      "[REGION 4 - EPOCHS 146]: train_loss: 0.704265, train_r2: -1.187908, test_loss: 0.705110, test_r2: -0.917206\n",
      "[REGION 4 - EPOCHS 147]: train_loss: 0.704097, train_r2: -1.060659, test_loss: 0.707223, test_r2: -0.815268\n",
      "[REGION 4 - EPOCHS 148]: train_loss: 0.704086, train_r2: -1.077662, test_loss: 0.705251, test_r2: -0.739260\n",
      "[REGION 4 - EPOCHS 149]: train_loss: 0.703850, train_r2: -1.118146, test_loss: 0.704771, test_r2: -0.711642\n",
      "[REGION 4 - EPOCHS 150]: train_loss: 0.703990, train_r2: -1.107760, test_loss: 0.707438, test_r2: -0.919932\n",
      "[REGION 4 - EPOCHS 151]: train_loss: 0.703581, train_r2: -1.168708, test_loss: 0.707169, test_r2: -0.798530\n",
      "[REGION 4 - EPOCHS 152]: train_loss: 0.704014, train_r2: -1.188094, test_loss: 0.708045, test_r2: -0.824366\n",
      "[REGION 4 - EPOCHS 153]: train_loss: 0.703913, train_r2: -1.103755, test_loss: 0.705355, test_r2: -0.974012\n",
      "[REGION 4 - EPOCHS 154]: train_loss: 0.704209, train_r2: -1.066016, test_loss: 0.704987, test_r2: -0.760204\n",
      "[REGION 4 - EPOCHS 155]: train_loss: 0.703709, train_r2: -1.182933, test_loss: 0.707514, test_r2: -0.742871\n",
      "[REGION 4 - EPOCHS 156]: train_loss: 0.704036, train_r2: -1.172048, test_loss: 0.708495, test_r2: -0.796924\n",
      "[REGION 4 - EPOCHS 157]: train_loss: 0.703868, train_r2: -1.098200, test_loss: 0.705960, test_r2: -0.660548\n",
      "[REGION 4 - EPOCHS 158]: train_loss: 0.704247, train_r2: -1.055241, test_loss: 0.707646, test_r2: -0.914561\n",
      "[REGION 4 - EPOCHS 159]: train_loss: 0.704062, train_r2: -0.977993, test_loss: 0.705815, test_r2: -0.809910\n",
      "[REGION 4 - EPOCHS 160]: train_loss: 0.703770, train_r2: -1.102269, test_loss: 0.704381, test_r2: -0.701927\n",
      "[REGION 4 - EPOCHS 161]: train_loss: 0.704129, train_r2: -1.100796, test_loss: 0.707325, test_r2: -0.883257\n",
      "[REGION 4 - EPOCHS 162]: train_loss: 0.704038, train_r2: -1.118522, test_loss: 0.704538, test_r2: -0.792071\n",
      "[REGION 4 - EPOCHS 163]: train_loss: 0.703909, train_r2: -1.107714, test_loss: 0.705998, test_r2: -0.840828\n",
      "[REGION 4 - EPOCHS 164]: train_loss: 0.704354, train_r2: -1.169603, test_loss: 0.705301, test_r2: -0.801287\n",
      "[REGION 4 - EPOCHS 165]: train_loss: 0.703965, train_r2: -1.020888, test_loss: 0.705999, test_r2: -0.789165\n",
      "[REGION 4 - EPOCHS 166]: train_loss: 0.704247, train_r2: -1.155398, test_loss: 0.706054, test_r2: -0.921844\n",
      "[REGION 4 - EPOCHS 167]: train_loss: 0.704160, train_r2: -1.134077, test_loss: 0.705816, test_r2: -0.919333\n",
      "[REGION 4 - EPOCHS 168]: train_loss: 0.703952, train_r2: -1.159832, test_loss: 0.705049, test_r2: -0.823986\n",
      "[REGION 4 - EPOCHS 169]: train_loss: 0.703848, train_r2: -1.110837, test_loss: 0.709173, test_r2: -0.806801\n",
      "[REGION 4 - EPOCHS 170]: train_loss: 0.703989, train_r2: -1.039612, test_loss: 0.706812, test_r2: -0.820970\n",
      "[REGION 4 - EPOCHS 171]: train_loss: 0.703956, train_r2: -1.180906, test_loss: 0.708624, test_r2: -0.597539\n",
      "[REGION 4 - EPOCHS 172]: train_loss: 0.704034, train_r2: -1.119872, test_loss: 0.706303, test_r2: -0.937375\n",
      "[REGION 4 - EPOCHS 173]: train_loss: 0.704025, train_r2: -1.178466, test_loss: 0.704870, test_r2: -0.822975\n",
      "[REGION 4 - EPOCHS 174]: train_loss: 0.703986, train_r2: -1.124204, test_loss: 0.707395, test_r2: -0.817401\n",
      "[REGION 4 - EPOCHS 175]: train_loss: 0.704089, train_r2: -1.091234, test_loss: 0.705504, test_r2: -0.908612\n",
      "[REGION 4 - EPOCHS 176]: train_loss: 0.704294, train_r2: -1.092653, test_loss: 0.705188, test_r2: -0.796618\n",
      "[REGION 4 - EPOCHS 177]: train_loss: 0.704086, train_r2: -1.159196, test_loss: 0.706687, test_r2: -0.796297\n",
      "[REGION 4 - EPOCHS 178]: train_loss: 0.704142, train_r2: -1.137506, test_loss: 0.704795, test_r2: -0.902048\n",
      "[REGION 4 - EPOCHS 179]: train_loss: 0.703893, train_r2: -1.085205, test_loss: 0.708363, test_r2: -0.803348\n",
      "[REGION 4 - EPOCHS 180]: train_loss: 0.703971, train_r2: -1.204695, test_loss: 0.709334, test_r2: -0.843653\n",
      "[REGION 4 - EPOCHS 181]: train_loss: 0.704190, train_r2: -1.109203, test_loss: 0.707724, test_r2: -0.758865\n",
      "[REGION 4 - EPOCHS 182]: train_loss: 0.704472, train_r2: -1.131911, test_loss: 0.704499, test_r2: -0.692317\n",
      "[REGION 4 - EPOCHS 183]: train_loss: 0.703939, train_r2: -1.127012, test_loss: 0.706109, test_r2: -0.607645\n",
      "[REGION 4 - EPOCHS 184]: train_loss: 0.704181, train_r2: -1.094671, test_loss: 0.707673, test_r2: -0.753848\n",
      "[REGION 4 - EPOCHS 185]: train_loss: 0.703993, train_r2: -1.087775, test_loss: 0.704020, test_r2: -0.848530\n",
      "[REGION 4 - EPOCHS 186]: train_loss: 0.704166, train_r2: -1.140670, test_loss: 0.705644, test_r2: -0.741708\n",
      "[REGION 4 - EPOCHS 187]: train_loss: 0.703944, train_r2: -1.112298, test_loss: 0.704640, test_r2: -0.756668\n",
      "[REGION 4 - EPOCHS 188]: train_loss: 0.703953, train_r2: -1.169372, test_loss: 0.707987, test_r2: -0.949567\n",
      "[REGION 4 - EPOCHS 189]: train_loss: 0.703807, train_r2: -1.170388, test_loss: 0.706044, test_r2: -0.776524\n",
      "[REGION 4 - EPOCHS 190]: train_loss: 0.703998, train_r2: -1.069946, test_loss: 0.706925, test_r2: -0.908013\n",
      "[REGION 4 - EPOCHS 191]: train_loss: 0.704037, train_r2: -1.160699, test_loss: 0.707463, test_r2: -0.881158\n",
      "[REGION 4 - EPOCHS 192]: train_loss: 0.703945, train_r2: -1.174805, test_loss: 0.705682, test_r2: -0.923657\n",
      "[REGION 4 - EPOCHS 193]: train_loss: 0.704048, train_r2: -1.123984, test_loss: 0.704737, test_r2: -0.846294\n",
      "[REGION 4 - EPOCHS 194]: train_loss: 0.703973, train_r2: -1.140246, test_loss: 0.707007, test_r2: -0.831308\n",
      "[REGION 4 - EPOCHS 195]: train_loss: 0.703813, train_r2: -1.099460, test_loss: 0.707325, test_r2: -0.902093\n",
      "[REGION 4 - EPOCHS 196]: train_loss: 0.704162, train_r2: -1.078903, test_loss: 0.706992, test_r2: -0.851497\n",
      "[REGION 4 - EPOCHS 197]: train_loss: 0.703858, train_r2: -1.079703, test_loss: 0.704684, test_r2: -0.933183\n"
     ]
    }
   ],
   "source": [
    "%cd /content/GenotypeImputationGRU\n",
    "!python train.py --root-dir /content/GenotypeImputationGRU/data/train_124_samples\\\n",
    "                  --model-config-dir model/config/\\\n",
    "                  --epochs 200\\\n",
    "                  --batch-size 16\\\n",
    "                  --region 3-5\\\n",
    "                  --model-type Hybrid\\\n",
    "                  --lr 0.0001\\\n",
    "                  --gpu"
   ]
  },
  {
   "cell_type": "code",
   "execution_count": null,
   "metadata": {
    "id": "0gLiY11Aj18C"
   },
   "outputs": [],
   "source": [
    "!cp -r /content/GenotypeImputationGRU/model/weights /content/drive/MyDrive/Genotype_Data"
   ]
  },
  {
   "cell_type": "code",
   "execution_count": null,
   "metadata": {
    "id": "r2nmG47qbwtd"
   },
   "outputs": [],
   "source": [
    "!cp -r /content/drive/MyDrive/Genotype_Data/weights /content/GenotypeImputationGRU/model"
   ]
  },
  {
   "cell_type": "code",
   "execution_count": null,
   "metadata": {
    "id": "IL5y-YYHAP4I"
   },
   "outputs": [],
   "source": [
    "!python eval.py --root-dir data/test_100_samples_GT/ --model-config-dir model/config/ --model-type Lower --batch-size 16 --regions 1-5 --model-dir model/weights/\n"
   ]
  },
  {
   "cell_type": "code",
   "execution_count": null,
   "metadata": {
    "colab": {
     "base_uri": "https://localhost:8080/"
    },
    "id": "dyFKHGStLEm_",
    "outputId": "696b90b5-f0f8-471c-8f69-389190ff42a3"
   },
   "outputs": [
    {
     "data": {
      "text/plain": [
       "-0.1428571428571428"
      ]
     },
     "execution_count": 7,
     "metadata": {
      "tags": []
     },
     "output_type": "execute_result"
    }
   ],
   "source": [
    "import numpy as np\n",
    "from sklearn.metrics import r2_score\n",
    "\n",
    "pred = '1 1 1 1 1 1 1 1 1 1 1 1 1 1 1 1 1 1 1 1 1 1 1 1 1 1 1 1 1 1 1 1 1 1 1 1 1 1 1 1 1 1 1 1 1 1 1 1 1 1 1 1 1 1 1 1 1 1 1 1 1 1 1 1 1 1 1 1 1 1 1 1 1 1 1 1 1 1 1 1 1 1 1 1 1 1 1 1 1 1 1 1 1 1 1 1 1 1 1 1 1 1 1 1 1 1 1 1 1 1 1 1 1 1 1 1 1 1 1 1 1 1 1 1 1 1 1 1 1 1 1 1 1 1 1 1 1 1 1 1 1 1 1 1 1 1 1 1 1 1 1 1 1 1 1 1 1 1 1 1 1 1 1 1 1 1 1 1 1 1 1 1 1 1 1 1 1 1 1 1 1 1 1 1 1 1 1 1 1 1 1 1 1 1 1 1 1 1 1 1'\n",
    "true = '1 1 1 1 1 1 1 1 1 1 0 1 1 1 1 1 1 1 1 1 1 1 1 1 1 1 1 1 0 0 1 0 1 1 1 1 0 1 1 1 1 1 1 1 1 1 0 1 1 1 1 1 1 1 1 0 1 1 1 1 1 1 1 1 1 1 1 1 1 1 1 1 1 1 1 0 0 0 1 0 1 1 1 1 0 0 1 1 1 1 1 1 1 1 0 1 1 1 1 1 1 1 0 1 0 1 1 1 1 1 1 1 1 0 1 1 1 1 1 1 1 1 1 1 1 1 1 1 1 1 1 1 1 1 1 1 1 1 1 0 0 1 1 1 0 1 1 1 1 1 1 1 1 1 1 1 1 1 1 1 1 1 1 1 1 1 1 0 1 0 1 1 1 1 1 1 1 1 1 1 1 1 1 1 1 0 1 1 1 1 1 0 1 1 1 1 1 0 1 1'\n",
    "pred = np.array(pred.split(), dtype=np.float)\n",
    "true = np.array(true.split(), dtype=np.float)\n",
    "r2_score(true,pred)"
   ]
  },
  {
   "cell_type": "code",
   "execution_count": null,
   "metadata": {
    "colab": {
     "base_uri": "https://localhost:8080/"
    },
    "id": "_QL7BzGrbD6P",
    "outputId": "0043435d-ab84-4e49-9e0f-88ff16706432"
   },
   "outputs": [
    {
     "name": "stdout",
     "output_type": "stream",
     "text": [
      "[2.0, 2.0, 2.0, 2.0, 2.0, 1.0, 2.0, 2.0, 2.0, 2.0, 2.0, 2.0, 2.0, 2.0, 0.0, 1.0, 2.0, 2.0, 1.0, 2.0, 2.0, 2.0, 2.0, 1.0, 2.0, 2.0, 2.0, 1.0, 2.0, 2.0, 2.0, 2.0, 2.0, 2.0, 2.0, 2.0, 2.0, 1.0, 0.0, 1.0, 2.0, 2.0, 0.0, 2.0, 2.0, 2.0, 2.0, 1.0, 2.0, 2.0, 2.0, 1.0, 1.0, 2.0, 2.0, 2.0, 1.0, 2.0, 2.0, 2.0, 2.0, 2.0, 2.0, 2.0, 2.0, 2.0, 2.0, 2.0, 2.0, 1.0, 1.0, 2.0, 1.0, 2.0, 2.0, 2.0, 2.0, 2.0, 2.0, 2.0, 2.0, 2.0, 2.0, 1.0, 1.0, 2.0, 2.0, 2.0, 2.0, 2.0, 2.0, 2.0, 1.0, 2.0, 2.0, 1.0, 2.0, 2.0, 1.0, 2.0]\n",
      "[2.0, 2.0, 2.0, 2.0, 2.0, 2.0, 2.0, 2.0, 2.0, 2.0, 2.0, 2.0, 2.0, 2.0, 2.0, 2.0, 2.0, 2.0, 2.0, 2.0, 2.0, 2.0, 2.0, 2.0, 2.0, 2.0, 2.0, 2.0, 2.0, 2.0, 2.0, 2.0, 2.0, 2.0, 2.0, 2.0, 2.0, 2.0, 2.0, 2.0, 2.0, 2.0, 2.0, 2.0, 2.0, 2.0, 2.0, 2.0, 2.0, 2.0, 2.0, 2.0, 2.0, 2.0, 2.0, 2.0, 2.0, 2.0, 2.0, 2.0, 2.0, 2.0, 2.0, 2.0, 2.0, 2.0, 2.0, 2.0, 2.0, 2.0, 2.0, 2.0, 2.0, 2.0, 2.0, 2.0, 2.0, 2.0, 2.0, 2.0, 2.0, 2.0, 2.0, 2.0, 2.0, 2.0, 2.0, 2.0, 2.0, 2.0, 2.0, 2.0, 2.0, 2.0, 2.0, 2.0, 2.0, 2.0, 2.0, 2.0]\n"
     ]
    },
    {
     "data": {
      "text/plain": [
       "-0.2525252525252526"
      ]
     },
     "execution_count": 10,
     "metadata": {
      "tags": []
     },
     "output_type": "execute_result"
    }
   ],
   "source": [
    "samples_size = len(true) // 2\n",
    "pred_geno = [0.0] * (samples_size)\n",
    "label_geno = [0.0] * (samples_size)\n",
    "for j in range(samples_size):\n",
    "  ref_pred = pred[2 * j]\n",
    "  alt_pred = pred[2 * j]\n",
    "  pred_geno[j] = ref_pred + alt_pred        \n",
    "  ref_label = true[2 * j]\n",
    "  alt_label = true[2 * j + 1]\n",
    "  label_geno[j] = ref_label + alt_label\n",
    "print(label_geno)\n",
    "print(pred_geno)\n",
    "_r2_score = r2_score(label_geno, pred_geno)\n",
    "_r2_score\n"
   ]
  },
  {
   "cell_type": "code",
   "execution_count": null,
   "metadata": {
    "colab": {
     "base_uri": "https://localhost:8080/"
    },
    "id": "51X4XK0pQlUX",
    "outputId": "10c66ddb-f375-44cd-bd7c-e978f3f0c3bb"
   },
   "outputs": [
    {
     "data": {
      "text/plain": [
       "-0.005025125628140614"
      ]
     },
     "execution_count": 18,
     "metadata": {
      "tags": []
     },
     "output_type": "execute_result"
    }
   ],
   "source": [
    "d = (1 - 1/200)**2 + ((0 - 1/200)**2)*199\n",
    "1-1/d"
   ]
  },
  {
   "cell_type": "code",
   "execution_count": null,
   "metadata": {
    "colab": {
     "base_uri": "https://localhost:8080/"
    },
    "id": "7GkuNab8RtET",
    "outputId": "d0110aa1-a1e6-42c4-d1ea-39ad150b886e"
   },
   "outputs": [
    {
     "data": {
      "text/plain": [
       "1"
      ]
     },
     "execution_count": 12,
     "metadata": {
      "tags": []
     },
     "output_type": "execute_result"
    }
   ],
   "source": [
    "test = []\n",
    "train = []\n",
    "with open('/content/test_100_samples.txt') as fp:\n",
    "  test = fp.read().rstrip().split()\n",
    "with open('/content/train_124_samples.txt') as fp:\n",
    "  train = fp.read().rstrip().split()\n",
    "count = 0\n",
    "for i in test:\n",
    "  if i in train:\n",
    "    count += 1\n",
    "count"
   ]
  }
 ],
 "metadata": {
  "accelerator": "GPU",
  "colab": {
   "collapsed_sections": [
    "darmSnrDgzVV",
    "IW3fXovFg3WM"
   ],
   "name": "GenotypeImputation.ipynb",
   "provenance": []
  },
  "kernelspec": {
   "display_name": "Python 3",
   "language": "python",
   "name": "python3"
  },
  "language_info": {
   "codemirror_mode": {
    "name": "ipython",
    "version": 3
   },
   "file_extension": ".py",
   "mimetype": "text/x-python",
   "name": "python",
   "nbconvert_exporter": "python",
   "pygments_lexer": "ipython3",
   "version": "3.6.13"
  }
 },
 "nbformat": 4,
 "nbformat_minor": 1
}
